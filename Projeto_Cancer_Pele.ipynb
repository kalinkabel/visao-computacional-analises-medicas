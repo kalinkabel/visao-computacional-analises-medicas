{
  "cells": [
    {
      "cell_type": "markdown",
      "metadata": {
        "id": "view-in-github",
        "colab_type": "text"
      },
      "source": [
        "<a href=\"https://colab.research.google.com/github/kalinkabel/visao-computacional-analises-medicas/blob/main/Projeto_Cancer_Pele.ipynb\" target=\"_parent\"><img src=\"https://colab.research.google.com/assets/colab-badge.svg\" alt=\"Open In Colab\"/></a>"
      ]
    },
    {
      "cell_type": "markdown",
      "metadata": {
        "id": "nHSnaP6C-P_x"
      },
      "source": [
        "## Instalando e Carregando os Pacotes"
      ]
    },
    {
      "cell_type": "code",
      "execution_count": null,
      "metadata": {
        "_cell_guid": "b1076dfc-b9ad-4769-8c92-a6c4dae69d19",
        "_uuid": "8f2839f25d086af736a60e9eeb907d3b93b6e0e5",
        "id": "Qqs8S8S4-P_5"
      },
      "outputs": [],
      "source": [
        "# Imports\n",
        "\n",
        "# Manipulação de dados e imagens\n",
        "import os\n",
        "import cv2\n",
        "import itertools\n",
        "from tqdm import tqdm\n",
        "from glob import glob\n",
        "from PIL import Image\n",
        "import numpy as np\n",
        "import pandas as pd\n",
        "import matplotlib.pyplot as plt\n",
        "import warnings\n",
        "warnings.filterwarnings('ignore')\n",
        "\n",
        "# Pytorch para preparação dos dados, criação e treino do modelo\n",
        "import torch\n",
        "from torch import nn, optim\n",
        "from torch.autograd import Variable\n",
        "from torch.utils.data import DataLoader, Dataset\n",
        "from torchvision import models, transforms\n",
        "\n",
        "# Scikit-learn para divisão dos dados e avaliação do modelo\n",
        "import sklearn\n",
        "from sklearn.model_selection import train_test_split\n",
        "from sklearn.metrics import confusion_matrix, classification_report"
      ]
    },
    {
      "cell_type": "markdown",
      "metadata": {
        "id": "5rUnEKnO-P_-"
      },
      "source": [
        "## Carregando e Compreendendo os Metadados\n",
        "\n",
        "Acesse o item de dicionário de dados no Capítulo 8."
      ]
    },
    {
      "cell_type": "code",
      "execution_count": null,
      "metadata": {
        "id": "dAvQvR5T-P__"
      },
      "outputs": [],
      "source": [
        "# Leitura do arquivo de metadados\n",
        "df_inicial = pd.read_csv(os.path.join('dados_HAM', 'HAM10000_metadata.csv'))"
      ]
    },
    {
      "cell_type": "code",
      "execution_count": null,
      "metadata": {
        "id": "TeDmvWME-QAA",
        "outputId": "b32fac55-65fe-4a29-b4e6-4c162bbc13d2"
      },
      "outputs": [
        {
          "data": {
            "text/html": [
              "<div>\n",
              "<style scoped>\n",
              "    .dataframe tbody tr th:only-of-type {\n",
              "        vertical-align: middle;\n",
              "    }\n",
              "\n",
              "    .dataframe tbody tr th {\n",
              "        vertical-align: top;\n",
              "    }\n",
              "\n",
              "    .dataframe thead th {\n",
              "        text-align: right;\n",
              "    }\n",
              "</style>\n",
              "<table border=\"1\" class=\"dataframe\">\n",
              "  <thead>\n",
              "    <tr style=\"text-align: right;\">\n",
              "      <th></th>\n",
              "      <th>lesion_id</th>\n",
              "      <th>image_id</th>\n",
              "      <th>dx</th>\n",
              "      <th>dx_type</th>\n",
              "      <th>age</th>\n",
              "      <th>sex</th>\n",
              "      <th>localization</th>\n",
              "    </tr>\n",
              "  </thead>\n",
              "  <tbody>\n",
              "    <tr>\n",
              "      <th>0</th>\n",
              "      <td>HAM_0000118</td>\n",
              "      <td>ISIC_0027419</td>\n",
              "      <td>bkl</td>\n",
              "      <td>histo</td>\n",
              "      <td>80.0</td>\n",
              "      <td>male</td>\n",
              "      <td>scalp</td>\n",
              "    </tr>\n",
              "    <tr>\n",
              "      <th>1</th>\n",
              "      <td>HAM_0000118</td>\n",
              "      <td>ISIC_0025030</td>\n",
              "      <td>bkl</td>\n",
              "      <td>histo</td>\n",
              "      <td>80.0</td>\n",
              "      <td>male</td>\n",
              "      <td>scalp</td>\n",
              "    </tr>\n",
              "    <tr>\n",
              "      <th>2</th>\n",
              "      <td>HAM_0002730</td>\n",
              "      <td>ISIC_0026769</td>\n",
              "      <td>bkl</td>\n",
              "      <td>histo</td>\n",
              "      <td>80.0</td>\n",
              "      <td>male</td>\n",
              "      <td>scalp</td>\n",
              "    </tr>\n",
              "    <tr>\n",
              "      <th>3</th>\n",
              "      <td>HAM_0002730</td>\n",
              "      <td>ISIC_0025661</td>\n",
              "      <td>bkl</td>\n",
              "      <td>histo</td>\n",
              "      <td>80.0</td>\n",
              "      <td>male</td>\n",
              "      <td>scalp</td>\n",
              "    </tr>\n",
              "    <tr>\n",
              "      <th>4</th>\n",
              "      <td>HAM_0001466</td>\n",
              "      <td>ISIC_0031633</td>\n",
              "      <td>bkl</td>\n",
              "      <td>histo</td>\n",
              "      <td>75.0</td>\n",
              "      <td>male</td>\n",
              "      <td>ear</td>\n",
              "    </tr>\n",
              "  </tbody>\n",
              "</table>\n",
              "</div>"
            ],
            "text/plain": [
              "     lesion_id      image_id   dx dx_type   age   sex localization\n",
              "0  HAM_0000118  ISIC_0027419  bkl   histo  80.0  male        scalp\n",
              "1  HAM_0000118  ISIC_0025030  bkl   histo  80.0  male        scalp\n",
              "2  HAM_0002730  ISIC_0026769  bkl   histo  80.0  male        scalp\n",
              "3  HAM_0002730  ISIC_0025661  bkl   histo  80.0  male        scalp\n",
              "4  HAM_0001466  ISIC_0031633  bkl   histo  75.0  male          ear"
            ]
          },
          "execution_count": 26,
          "metadata": {},
          "output_type": "execute_result"
        }
      ],
      "source": [
        "df_inicial.head()"
      ]
    },
    {
      "cell_type": "code",
      "execution_count": null,
      "metadata": {
        "id": "7eX68zLR-QAC",
        "outputId": "cc18a2ee-f3ad-4e09-aee1-c118f02318be"
      },
      "outputs": [
        {
          "data": {
            "text/plain": [
              "array(['bkl', 'nv', 'df', 'mel', 'vasc', 'bcc', 'akiec'], dtype=object)"
            ]
          },
          "execution_count": 27,
          "metadata": {},
          "output_type": "execute_result"
        }
      ],
      "source": [
        "df_inicial.dx.unique()"
      ]
    },
    {
      "cell_type": "code",
      "execution_count": null,
      "metadata": {
        "id": "5UPgN4k0-QAD"
      },
      "outputs": [],
      "source": [
        "# Caminho para as imagens\n",
        "caminho_imagens = glob(os.path.join('dados_HAM', '*', '*.jpg'))"
      ]
    },
    {
      "cell_type": "code",
      "execution_count": null,
      "metadata": {
        "id": "xo-IXExU-QAE"
      },
      "outputs": [],
      "source": [
        "# Cria um dicionário com id da imagem e caminho do arquivo no disco\n",
        "dict_imagens = {os.path.splitext(os.path.basename(x))[0]: x for x in caminho_imagens}"
      ]
    },
    {
      "cell_type": "code",
      "execution_count": null,
      "metadata": {
        "id": "sU7Wq_JP-QAF",
        "outputId": "f0abf3c7-2d73-4234-ff22-87981be70d5e"
      },
      "outputs": [
        {
          "data": {
            "text/plain": [
              "{'ISIC_0026629': 'dados_HAM/HAM10000_images_part_1/ISIC_0026629.jpg',\n",
              " 'ISIC_0024384': 'dados_HAM/HAM10000_images_part_1/ISIC_0024384.jpg',\n",
              " 'ISIC_0025840': 'dados_HAM/HAM10000_images_part_1/ISIC_0025840.jpg',\n",
              " 'ISIC_0027638': 'dados_HAM/HAM10000_images_part_1/ISIC_0027638.jpg',\n",
              " 'ISIC_0025781': 'dados_HAM/HAM10000_images_part_1/ISIC_0025781.jpg'}"
            ]
          },
          "execution_count": 30,
          "metadata": {},
          "output_type": "execute_result"
        }
      ],
      "source": [
        "# Imprimimos 5 registros do dicionário\n",
        "dict(itertools.islice(dict_imagens.items(), 5))"
      ]
    },
    {
      "cell_type": "code",
      "execution_count": null,
      "metadata": {
        "id": "xAWTraUm-QAG"
      },
      "outputs": [],
      "source": [
        "# Adiciona o path ao df_inicial\n",
        "df_inicial['path'] = df_inicial['image_id'].map(dict_imagens.get)"
      ]
    },
    {
      "cell_type": "code",
      "execution_count": null,
      "metadata": {
        "id": "wFHwlGOj-QAG",
        "outputId": "6d8ebaff-33bb-4bec-8bd7-5b3763a65cf4"
      },
      "outputs": [
        {
          "data": {
            "text/html": [
              "<div>\n",
              "<style scoped>\n",
              "    .dataframe tbody tr th:only-of-type {\n",
              "        vertical-align: middle;\n",
              "    }\n",
              "\n",
              "    .dataframe tbody tr th {\n",
              "        vertical-align: top;\n",
              "    }\n",
              "\n",
              "    .dataframe thead th {\n",
              "        text-align: right;\n",
              "    }\n",
              "</style>\n",
              "<table border=\"1\" class=\"dataframe\">\n",
              "  <thead>\n",
              "    <tr style=\"text-align: right;\">\n",
              "      <th></th>\n",
              "      <th>lesion_id</th>\n",
              "      <th>image_id</th>\n",
              "      <th>dx</th>\n",
              "      <th>dx_type</th>\n",
              "      <th>age</th>\n",
              "      <th>sex</th>\n",
              "      <th>localization</th>\n",
              "      <th>path</th>\n",
              "    </tr>\n",
              "  </thead>\n",
              "  <tbody>\n",
              "    <tr>\n",
              "      <th>0</th>\n",
              "      <td>HAM_0000118</td>\n",
              "      <td>ISIC_0027419</td>\n",
              "      <td>bkl</td>\n",
              "      <td>histo</td>\n",
              "      <td>80.0</td>\n",
              "      <td>male</td>\n",
              "      <td>scalp</td>\n",
              "      <td>dados_HAM/HAM10000_images_part_1/ISIC_0027419.jpg</td>\n",
              "    </tr>\n",
              "    <tr>\n",
              "      <th>1</th>\n",
              "      <td>HAM_0000118</td>\n",
              "      <td>ISIC_0025030</td>\n",
              "      <td>bkl</td>\n",
              "      <td>histo</td>\n",
              "      <td>80.0</td>\n",
              "      <td>male</td>\n",
              "      <td>scalp</td>\n",
              "      <td>dados_HAM/HAM10000_images_part_1/ISIC_0025030.jpg</td>\n",
              "    </tr>\n",
              "    <tr>\n",
              "      <th>2</th>\n",
              "      <td>HAM_0002730</td>\n",
              "      <td>ISIC_0026769</td>\n",
              "      <td>bkl</td>\n",
              "      <td>histo</td>\n",
              "      <td>80.0</td>\n",
              "      <td>male</td>\n",
              "      <td>scalp</td>\n",
              "      <td>dados_HAM/HAM10000_images_part_1/ISIC_0026769.jpg</td>\n",
              "    </tr>\n",
              "    <tr>\n",
              "      <th>3</th>\n",
              "      <td>HAM_0002730</td>\n",
              "      <td>ISIC_0025661</td>\n",
              "      <td>bkl</td>\n",
              "      <td>histo</td>\n",
              "      <td>80.0</td>\n",
              "      <td>male</td>\n",
              "      <td>scalp</td>\n",
              "      <td>dados_HAM/HAM10000_images_part_1/ISIC_0025661.jpg</td>\n",
              "    </tr>\n",
              "    <tr>\n",
              "      <th>4</th>\n",
              "      <td>HAM_0001466</td>\n",
              "      <td>ISIC_0031633</td>\n",
              "      <td>bkl</td>\n",
              "      <td>histo</td>\n",
              "      <td>75.0</td>\n",
              "      <td>male</td>\n",
              "      <td>ear</td>\n",
              "      <td>dados_HAM/HAM10000_images_part_2/ISIC_0031633.jpg</td>\n",
              "    </tr>\n",
              "  </tbody>\n",
              "</table>\n",
              "</div>"
            ],
            "text/plain": [
              "     lesion_id      image_id   dx dx_type   age   sex localization  \\\n",
              "0  HAM_0000118  ISIC_0027419  bkl   histo  80.0  male        scalp   \n",
              "1  HAM_0000118  ISIC_0025030  bkl   histo  80.0  male        scalp   \n",
              "2  HAM_0002730  ISIC_0026769  bkl   histo  80.0  male        scalp   \n",
              "3  HAM_0002730  ISIC_0025661  bkl   histo  80.0  male        scalp   \n",
              "4  HAM_0001466  ISIC_0031633  bkl   histo  75.0  male          ear   \n",
              "\n",
              "                                                path  \n",
              "0  dados_HAM/HAM10000_images_part_1/ISIC_0027419.jpg  \n",
              "1  dados_HAM/HAM10000_images_part_1/ISIC_0025030.jpg  \n",
              "2  dados_HAM/HAM10000_images_part_1/ISIC_0026769.jpg  \n",
              "3  dados_HAM/HAM10000_images_part_1/ISIC_0025661.jpg  \n",
              "4  dados_HAM/HAM10000_images_part_2/ISIC_0031633.jpg  "
            ]
          },
          "execution_count": 32,
          "metadata": {},
          "output_type": "execute_result"
        }
      ],
      "source": [
        "df_inicial.head()"
      ]
    },
    {
      "cell_type": "code",
      "execution_count": null,
      "metadata": {
        "id": "MrA6Nu2l-QAH"
      },
      "outputs": [],
      "source": [
        "# Tipos de lesões que serão analisadas\n",
        "tipo_lesao_dict = {'nv': 'Melanocytic nevi',\n",
        "                   'mel': 'Melanoma',\n",
        "                   'bkl': 'Benign keratosis-like',\n",
        "                   'bcc': 'Basal cell carcinoma',\n",
        "                   'akiec': 'Actinic keratoses',\n",
        "                   'vasc': 'Vascular lesions',\n",
        "                   'df': 'Dermatofibroma'}"
      ]
    },
    {
      "cell_type": "markdown",
      "metadata": {
        "id": "kPZ_VvC8-QAH"
      },
      "source": [
        "Referência:\n",
        "\n",
        "https://www.ncbi.nlm.nih.gov/pmc/articles/PMC7445643/"
      ]
    },
    {
      "cell_type": "code",
      "execution_count": null,
      "metadata": {
        "id": "xWXcnDGn-QAH"
      },
      "outputs": [],
      "source": [
        "# Extrair o tipo de lesão\n",
        "df_inicial['tipo_lesao'] = df_inicial['dx'].map(tipo_lesao_dict.get)"
      ]
    },
    {
      "cell_type": "code",
      "execution_count": null,
      "metadata": {
        "id": "cKTfjiM2-QAI",
        "outputId": "800c8679-ddc0-4f71-d3d2-7ebe2ec8abee"
      },
      "outputs": [
        {
          "data": {
            "text/html": [
              "<div>\n",
              "<style scoped>\n",
              "    .dataframe tbody tr th:only-of-type {\n",
              "        vertical-align: middle;\n",
              "    }\n",
              "\n",
              "    .dataframe tbody tr th {\n",
              "        vertical-align: top;\n",
              "    }\n",
              "\n",
              "    .dataframe thead th {\n",
              "        text-align: right;\n",
              "    }\n",
              "</style>\n",
              "<table border=\"1\" class=\"dataframe\">\n",
              "  <thead>\n",
              "    <tr style=\"text-align: right;\">\n",
              "      <th></th>\n",
              "      <th>lesion_id</th>\n",
              "      <th>image_id</th>\n",
              "      <th>dx</th>\n",
              "      <th>dx_type</th>\n",
              "      <th>age</th>\n",
              "      <th>sex</th>\n",
              "      <th>localization</th>\n",
              "      <th>path</th>\n",
              "      <th>tipo_lesao</th>\n",
              "    </tr>\n",
              "  </thead>\n",
              "  <tbody>\n",
              "    <tr>\n",
              "      <th>0</th>\n",
              "      <td>HAM_0000118</td>\n",
              "      <td>ISIC_0027419</td>\n",
              "      <td>bkl</td>\n",
              "      <td>histo</td>\n",
              "      <td>80.0</td>\n",
              "      <td>male</td>\n",
              "      <td>scalp</td>\n",
              "      <td>dados_HAM/HAM10000_images_part_1/ISIC_0027419.jpg</td>\n",
              "      <td>Benign keratosis-like</td>\n",
              "    </tr>\n",
              "    <tr>\n",
              "      <th>1</th>\n",
              "      <td>HAM_0000118</td>\n",
              "      <td>ISIC_0025030</td>\n",
              "      <td>bkl</td>\n",
              "      <td>histo</td>\n",
              "      <td>80.0</td>\n",
              "      <td>male</td>\n",
              "      <td>scalp</td>\n",
              "      <td>dados_HAM/HAM10000_images_part_1/ISIC_0025030.jpg</td>\n",
              "      <td>Benign keratosis-like</td>\n",
              "    </tr>\n",
              "    <tr>\n",
              "      <th>2</th>\n",
              "      <td>HAM_0002730</td>\n",
              "      <td>ISIC_0026769</td>\n",
              "      <td>bkl</td>\n",
              "      <td>histo</td>\n",
              "      <td>80.0</td>\n",
              "      <td>male</td>\n",
              "      <td>scalp</td>\n",
              "      <td>dados_HAM/HAM10000_images_part_1/ISIC_0026769.jpg</td>\n",
              "      <td>Benign keratosis-like</td>\n",
              "    </tr>\n",
              "    <tr>\n",
              "      <th>3</th>\n",
              "      <td>HAM_0002730</td>\n",
              "      <td>ISIC_0025661</td>\n",
              "      <td>bkl</td>\n",
              "      <td>histo</td>\n",
              "      <td>80.0</td>\n",
              "      <td>male</td>\n",
              "      <td>scalp</td>\n",
              "      <td>dados_HAM/HAM10000_images_part_1/ISIC_0025661.jpg</td>\n",
              "      <td>Benign keratosis-like</td>\n",
              "    </tr>\n",
              "    <tr>\n",
              "      <th>4</th>\n",
              "      <td>HAM_0001466</td>\n",
              "      <td>ISIC_0031633</td>\n",
              "      <td>bkl</td>\n",
              "      <td>histo</td>\n",
              "      <td>75.0</td>\n",
              "      <td>male</td>\n",
              "      <td>ear</td>\n",
              "      <td>dados_HAM/HAM10000_images_part_2/ISIC_0031633.jpg</td>\n",
              "      <td>Benign keratosis-like</td>\n",
              "    </tr>\n",
              "  </tbody>\n",
              "</table>\n",
              "</div>"
            ],
            "text/plain": [
              "     lesion_id      image_id   dx dx_type   age   sex localization  \\\n",
              "0  HAM_0000118  ISIC_0027419  bkl   histo  80.0  male        scalp   \n",
              "1  HAM_0000118  ISIC_0025030  bkl   histo  80.0  male        scalp   \n",
              "2  HAM_0002730  ISIC_0026769  bkl   histo  80.0  male        scalp   \n",
              "3  HAM_0002730  ISIC_0025661  bkl   histo  80.0  male        scalp   \n",
              "4  HAM_0001466  ISIC_0031633  bkl   histo  75.0  male          ear   \n",
              "\n",
              "                                                path             tipo_lesao  \n",
              "0  dados_HAM/HAM10000_images_part_1/ISIC_0027419.jpg  Benign keratosis-like  \n",
              "1  dados_HAM/HAM10000_images_part_1/ISIC_0025030.jpg  Benign keratosis-like  \n",
              "2  dados_HAM/HAM10000_images_part_1/ISIC_0026769.jpg  Benign keratosis-like  \n",
              "3  dados_HAM/HAM10000_images_part_1/ISIC_0025661.jpg  Benign keratosis-like  \n",
              "4  dados_HAM/HAM10000_images_part_2/ISIC_0031633.jpg  Benign keratosis-like  "
            ]
          },
          "execution_count": 35,
          "metadata": {},
          "output_type": "execute_result"
        }
      ],
      "source": [
        "df_inicial.head()"
      ]
    },
    {
      "cell_type": "code",
      "execution_count": null,
      "metadata": {
        "id": "V4S3qvRn-QAI"
      },
      "outputs": [],
      "source": [
        "# Converte a variável categórica em sua representação numérica\n",
        "df_inicial['tipo_lesao_idx'] = pd.Categorical(df_inicial['tipo_lesao']).codes"
      ]
    },
    {
      "cell_type": "code",
      "execution_count": null,
      "metadata": {
        "id": "UeeGm_u6-QAI",
        "outputId": "e311becf-809a-4ae1-9f34-993e5a891473"
      },
      "outputs": [
        {
          "data": {
            "text/html": [
              "<div>\n",
              "<style scoped>\n",
              "    .dataframe tbody tr th:only-of-type {\n",
              "        vertical-align: middle;\n",
              "    }\n",
              "\n",
              "    .dataframe tbody tr th {\n",
              "        vertical-align: top;\n",
              "    }\n",
              "\n",
              "    .dataframe thead th {\n",
              "        text-align: right;\n",
              "    }\n",
              "</style>\n",
              "<table border=\"1\" class=\"dataframe\">\n",
              "  <thead>\n",
              "    <tr style=\"text-align: right;\">\n",
              "      <th></th>\n",
              "      <th>lesion_id</th>\n",
              "      <th>image_id</th>\n",
              "      <th>dx</th>\n",
              "      <th>dx_type</th>\n",
              "      <th>age</th>\n",
              "      <th>sex</th>\n",
              "      <th>localization</th>\n",
              "      <th>path</th>\n",
              "      <th>tipo_lesao</th>\n",
              "      <th>tipo_lesao_idx</th>\n",
              "    </tr>\n",
              "  </thead>\n",
              "  <tbody>\n",
              "    <tr>\n",
              "      <th>0</th>\n",
              "      <td>HAM_0000118</td>\n",
              "      <td>ISIC_0027419</td>\n",
              "      <td>bkl</td>\n",
              "      <td>histo</td>\n",
              "      <td>80.0</td>\n",
              "      <td>male</td>\n",
              "      <td>scalp</td>\n",
              "      <td>dados_HAM/HAM10000_images_part_1/ISIC_0027419.jpg</td>\n",
              "      <td>Benign keratosis-like</td>\n",
              "      <td>2</td>\n",
              "    </tr>\n",
              "    <tr>\n",
              "      <th>1</th>\n",
              "      <td>HAM_0000118</td>\n",
              "      <td>ISIC_0025030</td>\n",
              "      <td>bkl</td>\n",
              "      <td>histo</td>\n",
              "      <td>80.0</td>\n",
              "      <td>male</td>\n",
              "      <td>scalp</td>\n",
              "      <td>dados_HAM/HAM10000_images_part_1/ISIC_0025030.jpg</td>\n",
              "      <td>Benign keratosis-like</td>\n",
              "      <td>2</td>\n",
              "    </tr>\n",
              "    <tr>\n",
              "      <th>2</th>\n",
              "      <td>HAM_0002730</td>\n",
              "      <td>ISIC_0026769</td>\n",
              "      <td>bkl</td>\n",
              "      <td>histo</td>\n",
              "      <td>80.0</td>\n",
              "      <td>male</td>\n",
              "      <td>scalp</td>\n",
              "      <td>dados_HAM/HAM10000_images_part_1/ISIC_0026769.jpg</td>\n",
              "      <td>Benign keratosis-like</td>\n",
              "      <td>2</td>\n",
              "    </tr>\n",
              "    <tr>\n",
              "      <th>3</th>\n",
              "      <td>HAM_0002730</td>\n",
              "      <td>ISIC_0025661</td>\n",
              "      <td>bkl</td>\n",
              "      <td>histo</td>\n",
              "      <td>80.0</td>\n",
              "      <td>male</td>\n",
              "      <td>scalp</td>\n",
              "      <td>dados_HAM/HAM10000_images_part_1/ISIC_0025661.jpg</td>\n",
              "      <td>Benign keratosis-like</td>\n",
              "      <td>2</td>\n",
              "    </tr>\n",
              "    <tr>\n",
              "      <th>4</th>\n",
              "      <td>HAM_0001466</td>\n",
              "      <td>ISIC_0031633</td>\n",
              "      <td>bkl</td>\n",
              "      <td>histo</td>\n",
              "      <td>75.0</td>\n",
              "      <td>male</td>\n",
              "      <td>ear</td>\n",
              "      <td>dados_HAM/HAM10000_images_part_2/ISIC_0031633.jpg</td>\n",
              "      <td>Benign keratosis-like</td>\n",
              "      <td>2</td>\n",
              "    </tr>\n",
              "  </tbody>\n",
              "</table>\n",
              "</div>"
            ],
            "text/plain": [
              "     lesion_id      image_id   dx dx_type   age   sex localization  \\\n",
              "0  HAM_0000118  ISIC_0027419  bkl   histo  80.0  male        scalp   \n",
              "1  HAM_0000118  ISIC_0025030  bkl   histo  80.0  male        scalp   \n",
              "2  HAM_0002730  ISIC_0026769  bkl   histo  80.0  male        scalp   \n",
              "3  HAM_0002730  ISIC_0025661  bkl   histo  80.0  male        scalp   \n",
              "4  HAM_0001466  ISIC_0031633  bkl   histo  75.0  male          ear   \n",
              "\n",
              "                                                path             tipo_lesao  \\\n",
              "0  dados_HAM/HAM10000_images_part_1/ISIC_0027419.jpg  Benign keratosis-like   \n",
              "1  dados_HAM/HAM10000_images_part_1/ISIC_0025030.jpg  Benign keratosis-like   \n",
              "2  dados_HAM/HAM10000_images_part_1/ISIC_0026769.jpg  Benign keratosis-like   \n",
              "3  dados_HAM/HAM10000_images_part_1/ISIC_0025661.jpg  Benign keratosis-like   \n",
              "4  dados_HAM/HAM10000_images_part_2/ISIC_0031633.jpg  Benign keratosis-like   \n",
              "\n",
              "   tipo_lesao_idx  \n",
              "0               2  \n",
              "1               2  \n",
              "2               2  \n",
              "3               2  \n",
              "4               2  "
            ]
          },
          "execution_count": 37,
          "metadata": {},
          "output_type": "execute_result"
        }
      ],
      "source": [
        "df_inicial.head()"
      ]
    },
    {
      "cell_type": "code",
      "execution_count": null,
      "metadata": {
        "id": "ekMr7_gm-QAJ",
        "outputId": "d1ba6106-a438-486a-d611-e9af221ea595"
      },
      "outputs": [
        {
          "data": {
            "text/plain": [
              "array([2, 4, 3, 5, 6, 1, 0], dtype=int8)"
            ]
          },
          "execution_count": 38,
          "metadata": {},
          "output_type": "execute_result"
        }
      ],
      "source": [
        "df_inicial.tipo_lesao_idx.unique()"
      ]
    },
    {
      "cell_type": "code",
      "execution_count": null,
      "metadata": {
        "id": "8blL29YZ-QAJ",
        "outputId": "75ebcdf6-ab6f-4d25-d9d8-fee44f8ecd12"
      },
      "outputs": [
        {
          "data": {
            "text/html": [
              "<div>\n",
              "<style scoped>\n",
              "    .dataframe tbody tr th:only-of-type {\n",
              "        vertical-align: middle;\n",
              "    }\n",
              "\n",
              "    .dataframe tbody tr th {\n",
              "        vertical-align: top;\n",
              "    }\n",
              "\n",
              "    .dataframe thead th {\n",
              "        text-align: right;\n",
              "    }\n",
              "</style>\n",
              "<table border=\"1\" class=\"dataframe\">\n",
              "  <thead>\n",
              "    <tr style=\"text-align: right;\">\n",
              "      <th></th>\n",
              "      <th>lesion_id</th>\n",
              "      <th>image_id</th>\n",
              "      <th>dx</th>\n",
              "      <th>dx_type</th>\n",
              "      <th>age</th>\n",
              "      <th>sex</th>\n",
              "      <th>localization</th>\n",
              "      <th>path</th>\n",
              "      <th>tipo_lesao</th>\n",
              "      <th>tipo_lesao_idx</th>\n",
              "    </tr>\n",
              "  </thead>\n",
              "  <tbody>\n",
              "    <tr>\n",
              "      <th>2719</th>\n",
              "      <td>HAM_0002312</td>\n",
              "      <td>ISIC_0025650</td>\n",
              "      <td>bcc</td>\n",
              "      <td>histo</td>\n",
              "      <td>70.0</td>\n",
              "      <td>male</td>\n",
              "      <td>face</td>\n",
              "      <td>dados_HAM/HAM10000_images_part_1/ISIC_0025650.jpg</td>\n",
              "      <td>Basal cell carcinoma</td>\n",
              "      <td>1</td>\n",
              "    </tr>\n",
              "    <tr>\n",
              "      <th>2783</th>\n",
              "      <td>HAM_0005971</td>\n",
              "      <td>ISIC_0031258</td>\n",
              "      <td>bcc</td>\n",
              "      <td>histo</td>\n",
              "      <td>40.0</td>\n",
              "      <td>male</td>\n",
              "      <td>back</td>\n",
              "      <td>dados_HAM/HAM10000_images_part_2/ISIC_0031258.jpg</td>\n",
              "      <td>Basal cell carcinoma</td>\n",
              "      <td>1</td>\n",
              "    </tr>\n",
              "    <tr>\n",
              "      <th>2362</th>\n",
              "      <td>HAM_0000940</td>\n",
              "      <td>ISIC_0033969</td>\n",
              "      <td>vasc</td>\n",
              "      <td>histo</td>\n",
              "      <td>35.0</td>\n",
              "      <td>female</td>\n",
              "      <td>lower extremity</td>\n",
              "      <td>dados_HAM/HAM10000_images_part_2/ISIC_0033969.jpg</td>\n",
              "      <td>Vascular lesions</td>\n",
              "      <td>6</td>\n",
              "    </tr>\n",
              "    <tr>\n",
              "      <th>2344</th>\n",
              "      <td>HAM_0004455</td>\n",
              "      <td>ISIC_0027385</td>\n",
              "      <td>vasc</td>\n",
              "      <td>histo</td>\n",
              "      <td>20.0</td>\n",
              "      <td>male</td>\n",
              "      <td>trunk</td>\n",
              "      <td>dados_HAM/HAM10000_images_part_1/ISIC_0027385.jpg</td>\n",
              "      <td>Vascular lesions</td>\n",
              "      <td>6</td>\n",
              "    </tr>\n",
              "    <tr>\n",
              "      <th>9352</th>\n",
              "      <td>HAM_0000741</td>\n",
              "      <td>ISIC_0025956</td>\n",
              "      <td>nv</td>\n",
              "      <td>consensus</td>\n",
              "      <td>35.0</td>\n",
              "      <td>male</td>\n",
              "      <td>back</td>\n",
              "      <td>dados_HAM/HAM10000_images_part_1/ISIC_0025956.jpg</td>\n",
              "      <td>Melanocytic nevi</td>\n",
              "      <td>4</td>\n",
              "    </tr>\n",
              "  </tbody>\n",
              "</table>\n",
              "</div>"
            ],
            "text/plain": [
              "        lesion_id      image_id    dx    dx_type   age     sex  \\\n",
              "2719  HAM_0002312  ISIC_0025650   bcc      histo  70.0    male   \n",
              "2783  HAM_0005971  ISIC_0031258   bcc      histo  40.0    male   \n",
              "2362  HAM_0000940  ISIC_0033969  vasc      histo  35.0  female   \n",
              "2344  HAM_0004455  ISIC_0027385  vasc      histo  20.0    male   \n",
              "9352  HAM_0000741  ISIC_0025956    nv  consensus  35.0    male   \n",
              "\n",
              "         localization                                               path  \\\n",
              "2719             face  dados_HAM/HAM10000_images_part_1/ISIC_0025650.jpg   \n",
              "2783             back  dados_HAM/HAM10000_images_part_2/ISIC_0031258.jpg   \n",
              "2362  lower extremity  dados_HAM/HAM10000_images_part_2/ISIC_0033969.jpg   \n",
              "2344            trunk  dados_HAM/HAM10000_images_part_1/ISIC_0027385.jpg   \n",
              "9352             back  dados_HAM/HAM10000_images_part_1/ISIC_0025956.jpg   \n",
              "\n",
              "                tipo_lesao  tipo_lesao_idx  \n",
              "2719  Basal cell carcinoma               1  \n",
              "2783  Basal cell carcinoma               1  \n",
              "2362      Vascular lesions               6  \n",
              "2344      Vascular lesions               6  \n",
              "9352      Melanocytic nevi               4  "
            ]
          },
          "execution_count": 39,
          "metadata": {},
          "output_type": "execute_result"
        }
      ],
      "source": [
        "df_inicial.sample(5)"
      ]
    },
    {
      "cell_type": "markdown",
      "metadata": {
        "id": "SnwlQo0B-QAJ"
      },
      "source": [
        "## Pré-Processamento\n",
        "\n",
        "Vamos pré-processar as imagens."
      ]
    },
    {
      "cell_type": "markdown",
      "metadata": {
        "id": "-wuEJ8Sj-QAK"
      },
      "source": [
        "### 1- Extraindo Média e Desvio Padrão das Imagens\n",
        "\n",
        "Esta função é usada para calcular a média e o desvio padrão em todo o conjunto de dados e será usada para normalização das imagens de entrada."
      ]
    },
    {
      "cell_type": "code",
      "execution_count": null,
      "metadata": {
        "id": "d6TobSJp-QAK"
      },
      "outputs": [],
      "source": [
        "# Função para cálculo de média e desvio\n",
        "def dsa_func_calcula_img_mean_std(image_paths):\n",
        "\n",
        "    # Define altura e largura que usaremos nas imagens\n",
        "    img_h, img_w = 224, 224\n",
        "\n",
        "    # Listas de controle\n",
        "    imgs = []\n",
        "    means, stdevs = [], []\n",
        "\n",
        "    # Loop de leitura e resize das imagens\n",
        "    for i in tqdm(range(len(image_paths))):\n",
        "        img = cv2.imread(image_paths[i])\n",
        "        img = cv2.resize(img, (img_h, img_w))\n",
        "        imgs.append(img)\n",
        "\n",
        "    # Stack de imagens\n",
        "    imgs = np.stack(imgs, axis=3)\n",
        "    print(imgs.shape)\n",
        "\n",
        "    # Normalização\n",
        "    imgs = imgs.astype(np.float32) / 255.\n",
        "\n",
        "    # Loop de cálculo da média e desvio\n",
        "    for i in range(3):\n",
        "        pixels = imgs[:, :, i, :].ravel()\n",
        "        means.append(np.mean(pixels))\n",
        "        stdevs.append(np.std(pixels))\n",
        "\n",
        "    # BGR --> RGB\n",
        "    means.reverse()\n",
        "    stdevs.reverse()\n",
        "\n",
        "    print(\"normMean = {}\".format(means))\n",
        "    print(\"normStd = {}\".format(stdevs))\n",
        "\n",
        "    return means, stdevs"
      ]
    },
    {
      "cell_type": "code",
      "execution_count": null,
      "metadata": {
        "id": "qtIs__z5-QAK",
        "outputId": "ba9c6da1-3c9a-4fdc-feba-190f40894f75"
      },
      "outputs": [
        {
          "name": "stderr",
          "output_type": "stream",
          "text": [
            "100%|██████████████████████████████████████████████████████████████████████████████████████████████████████████████████| 10015/10015 [00:42<00:00, 235.75it/s]\n"
          ]
        },
        {
          "name": "stdout",
          "output_type": "stream",
          "text": [
            "(224, 224, 3, 10015)\n",
            "normMean = [0.76304126, 0.5456457, 0.5700472]\n",
            "normStd = [0.14092818, 0.15261303, 0.16997096]\n",
            "CPU times: user 50.6 s, sys: 2.92 s, total: 53.5 s\n",
            "Wall time: 53.5 s\n"
          ]
        }
      ],
      "source": [
        "%%time\n",
        "\n",
        "# Retorna a média e o desvio padrão de cada canal RGB\n",
        "norm_mean, norm_std = dsa_func_calcula_img_mean_std(caminho_imagens)"
      ]
    },
    {
      "cell_type": "markdown",
      "metadata": {
        "id": "spgLEfqz-QAL"
      },
      "source": [
        "### 2- Preparação do Dataset de Validação"
      ]
    },
    {
      "cell_type": "code",
      "execution_count": null,
      "metadata": {
        "id": "_OhCSQTy-QAL"
      },
      "outputs": [],
      "source": [
        "# Vamos verificar quantas imagens estão associadas a cada lesion_id\n",
        "df_temp = df_inicial.groupby('lesion_id').count()"
      ]
    },
    {
      "cell_type": "code",
      "execution_count": null,
      "metadata": {
        "id": "X9gVE2gp-QAL",
        "outputId": "a12e0ccb-6950-46ee-b072-c1c6e8856172"
      },
      "outputs": [
        {
          "data": {
            "text/html": [
              "<div>\n",
              "<style scoped>\n",
              "    .dataframe tbody tr th:only-of-type {\n",
              "        vertical-align: middle;\n",
              "    }\n",
              "\n",
              "    .dataframe tbody tr th {\n",
              "        vertical-align: top;\n",
              "    }\n",
              "\n",
              "    .dataframe thead th {\n",
              "        text-align: right;\n",
              "    }\n",
              "</style>\n",
              "<table border=\"1\" class=\"dataframe\">\n",
              "  <thead>\n",
              "    <tr style=\"text-align: right;\">\n",
              "      <th></th>\n",
              "      <th>image_id</th>\n",
              "      <th>dx</th>\n",
              "      <th>dx_type</th>\n",
              "      <th>age</th>\n",
              "      <th>sex</th>\n",
              "      <th>localization</th>\n",
              "      <th>path</th>\n",
              "      <th>tipo_lesao</th>\n",
              "      <th>tipo_lesao_idx</th>\n",
              "    </tr>\n",
              "    <tr>\n",
              "      <th>lesion_id</th>\n",
              "      <th></th>\n",
              "      <th></th>\n",
              "      <th></th>\n",
              "      <th></th>\n",
              "      <th></th>\n",
              "      <th></th>\n",
              "      <th></th>\n",
              "      <th></th>\n",
              "      <th></th>\n",
              "    </tr>\n",
              "  </thead>\n",
              "  <tbody>\n",
              "    <tr>\n",
              "      <th>HAM_0000000</th>\n",
              "      <td>2</td>\n",
              "      <td>2</td>\n",
              "      <td>2</td>\n",
              "      <td>2</td>\n",
              "      <td>2</td>\n",
              "      <td>2</td>\n",
              "      <td>2</td>\n",
              "      <td>2</td>\n",
              "      <td>2</td>\n",
              "    </tr>\n",
              "    <tr>\n",
              "      <th>HAM_0000001</th>\n",
              "      <td>1</td>\n",
              "      <td>1</td>\n",
              "      <td>1</td>\n",
              "      <td>1</td>\n",
              "      <td>1</td>\n",
              "      <td>1</td>\n",
              "      <td>1</td>\n",
              "      <td>1</td>\n",
              "      <td>1</td>\n",
              "    </tr>\n",
              "    <tr>\n",
              "      <th>HAM_0000002</th>\n",
              "      <td>3</td>\n",
              "      <td>3</td>\n",
              "      <td>3</td>\n",
              "      <td>3</td>\n",
              "      <td>3</td>\n",
              "      <td>3</td>\n",
              "      <td>3</td>\n",
              "      <td>3</td>\n",
              "      <td>3</td>\n",
              "    </tr>\n",
              "    <tr>\n",
              "      <th>HAM_0000003</th>\n",
              "      <td>1</td>\n",
              "      <td>1</td>\n",
              "      <td>1</td>\n",
              "      <td>1</td>\n",
              "      <td>1</td>\n",
              "      <td>1</td>\n",
              "      <td>1</td>\n",
              "      <td>1</td>\n",
              "      <td>1</td>\n",
              "    </tr>\n",
              "    <tr>\n",
              "      <th>HAM_0000004</th>\n",
              "      <td>1</td>\n",
              "      <td>1</td>\n",
              "      <td>1</td>\n",
              "      <td>1</td>\n",
              "      <td>1</td>\n",
              "      <td>1</td>\n",
              "      <td>1</td>\n",
              "      <td>1</td>\n",
              "      <td>1</td>\n",
              "    </tr>\n",
              "  </tbody>\n",
              "</table>\n",
              "</div>"
            ],
            "text/plain": [
              "             image_id  dx  dx_type  age  sex  localization  path  tipo_lesao  \\\n",
              "lesion_id                                                                      \n",
              "HAM_0000000         2   2        2    2    2             2     2           2   \n",
              "HAM_0000001         1   1        1    1    1             1     1           1   \n",
              "HAM_0000002         3   3        3    3    3             3     3           3   \n",
              "HAM_0000003         1   1        1    1    1             1     1           1   \n",
              "HAM_0000004         1   1        1    1    1             1     1           1   \n",
              "\n",
              "             tipo_lesao_idx  \n",
              "lesion_id                    \n",
              "HAM_0000000               2  \n",
              "HAM_0000001               1  \n",
              "HAM_0000002               3  \n",
              "HAM_0000003               1  \n",
              "HAM_0000004               1  "
            ]
          },
          "execution_count": 43,
          "metadata": {},
          "output_type": "execute_result"
        }
      ],
      "source": [
        "df_temp.head()"
      ]
    },
    {
      "cell_type": "code",
      "execution_count": null,
      "metadata": {
        "id": "Mk4J2yz2-QAM"
      },
      "outputs": [],
      "source": [
        "# Agora filtramos lesion_ids que possuem apenas uma imagem associada\n",
        "df_temp = df_temp[df_temp['image_id'] == 1]"
      ]
    },
    {
      "cell_type": "code",
      "execution_count": null,
      "metadata": {
        "id": "SAlBRxD4-QAM"
      },
      "outputs": [],
      "source": [
        "# Reset do índice\n",
        "df_temp.reset_index(inplace = True)"
      ]
    },
    {
      "cell_type": "code",
      "execution_count": null,
      "metadata": {
        "id": "dl1eZM6G-QAN",
        "outputId": "6854cb3b-30a8-43b2-e43b-eb6338f472c3"
      },
      "outputs": [
        {
          "data": {
            "text/html": [
              "<div>\n",
              "<style scoped>\n",
              "    .dataframe tbody tr th:only-of-type {\n",
              "        vertical-align: middle;\n",
              "    }\n",
              "\n",
              "    .dataframe tbody tr th {\n",
              "        vertical-align: top;\n",
              "    }\n",
              "\n",
              "    .dataframe thead th {\n",
              "        text-align: right;\n",
              "    }\n",
              "</style>\n",
              "<table border=\"1\" class=\"dataframe\">\n",
              "  <thead>\n",
              "    <tr style=\"text-align: right;\">\n",
              "      <th></th>\n",
              "      <th>lesion_id</th>\n",
              "      <th>image_id</th>\n",
              "      <th>dx</th>\n",
              "      <th>dx_type</th>\n",
              "      <th>age</th>\n",
              "      <th>sex</th>\n",
              "      <th>localization</th>\n",
              "      <th>path</th>\n",
              "      <th>tipo_lesao</th>\n",
              "      <th>tipo_lesao_idx</th>\n",
              "    </tr>\n",
              "  </thead>\n",
              "  <tbody>\n",
              "    <tr>\n",
              "      <th>0</th>\n",
              "      <td>HAM_0000001</td>\n",
              "      <td>1</td>\n",
              "      <td>1</td>\n",
              "      <td>1</td>\n",
              "      <td>1</td>\n",
              "      <td>1</td>\n",
              "      <td>1</td>\n",
              "      <td>1</td>\n",
              "      <td>1</td>\n",
              "      <td>1</td>\n",
              "    </tr>\n",
              "    <tr>\n",
              "      <th>1</th>\n",
              "      <td>HAM_0000003</td>\n",
              "      <td>1</td>\n",
              "      <td>1</td>\n",
              "      <td>1</td>\n",
              "      <td>1</td>\n",
              "      <td>1</td>\n",
              "      <td>1</td>\n",
              "      <td>1</td>\n",
              "      <td>1</td>\n",
              "      <td>1</td>\n",
              "    </tr>\n",
              "    <tr>\n",
              "      <th>2</th>\n",
              "      <td>HAM_0000004</td>\n",
              "      <td>1</td>\n",
              "      <td>1</td>\n",
              "      <td>1</td>\n",
              "      <td>1</td>\n",
              "      <td>1</td>\n",
              "      <td>1</td>\n",
              "      <td>1</td>\n",
              "      <td>1</td>\n",
              "      <td>1</td>\n",
              "    </tr>\n",
              "    <tr>\n",
              "      <th>3</th>\n",
              "      <td>HAM_0000007</td>\n",
              "      <td>1</td>\n",
              "      <td>1</td>\n",
              "      <td>1</td>\n",
              "      <td>1</td>\n",
              "      <td>1</td>\n",
              "      <td>1</td>\n",
              "      <td>1</td>\n",
              "      <td>1</td>\n",
              "      <td>1</td>\n",
              "    </tr>\n",
              "    <tr>\n",
              "      <th>4</th>\n",
              "      <td>HAM_0000008</td>\n",
              "      <td>1</td>\n",
              "      <td>1</td>\n",
              "      <td>1</td>\n",
              "      <td>1</td>\n",
              "      <td>1</td>\n",
              "      <td>1</td>\n",
              "      <td>1</td>\n",
              "      <td>1</td>\n",
              "      <td>1</td>\n",
              "    </tr>\n",
              "  </tbody>\n",
              "</table>\n",
              "</div>"
            ],
            "text/plain": [
              "     lesion_id  image_id  dx  dx_type  age  sex  localization  path  \\\n",
              "0  HAM_0000001         1   1        1    1    1             1     1   \n",
              "1  HAM_0000003         1   1        1    1    1             1     1   \n",
              "2  HAM_0000004         1   1        1    1    1             1     1   \n",
              "3  HAM_0000007         1   1        1    1    1             1     1   \n",
              "4  HAM_0000008         1   1        1    1    1             1     1   \n",
              "\n",
              "   tipo_lesao  tipo_lesao_idx  \n",
              "0           1               1  \n",
              "1           1               1  \n",
              "2           1               1  \n",
              "3           1               1  \n",
              "4           1               1  "
            ]
          },
          "execution_count": 46,
          "metadata": {},
          "output_type": "execute_result"
        }
      ],
      "source": [
        "df_temp.head()"
      ]
    },
    {
      "cell_type": "code",
      "execution_count": null,
      "metadata": {
        "id": "8QOrZ35f-QAN"
      },
      "outputs": [],
      "source": [
        "# Função para identificar lesion_ids que possuem imagens duplicadas e aqueles que possuem apenas uma imagem\n",
        "def dsa_get_duplicates(x):\n",
        "    unique_list = list(df_temp['lesion_id'])\n",
        "    if x in unique_list:\n",
        "        return 'unduplicated'\n",
        "    else:\n",
        "        return 'duplicated'"
      ]
    },
    {
      "cell_type": "code",
      "execution_count": null,
      "metadata": {
        "id": "3DSz--4j-QAO"
      },
      "outputs": [],
      "source": [
        "# Cria uma nova coluna que seja uma cópia da coluna lesion_id\n",
        "df_inicial['duplicates'] = df_inicial['lesion_id']"
      ]
    },
    {
      "cell_type": "code",
      "execution_count": null,
      "metadata": {
        "id": "4NaWGWnl-QAO",
        "outputId": "766bb6f8-a227-45ee-9cc7-7f6234e8a841"
      },
      "outputs": [
        {
          "data": {
            "text/html": [
              "<div>\n",
              "<style scoped>\n",
              "    .dataframe tbody tr th:only-of-type {\n",
              "        vertical-align: middle;\n",
              "    }\n",
              "\n",
              "    .dataframe tbody tr th {\n",
              "        vertical-align: top;\n",
              "    }\n",
              "\n",
              "    .dataframe thead th {\n",
              "        text-align: right;\n",
              "    }\n",
              "</style>\n",
              "<table border=\"1\" class=\"dataframe\">\n",
              "  <thead>\n",
              "    <tr style=\"text-align: right;\">\n",
              "      <th></th>\n",
              "      <th>lesion_id</th>\n",
              "      <th>image_id</th>\n",
              "      <th>dx</th>\n",
              "      <th>dx_type</th>\n",
              "      <th>age</th>\n",
              "      <th>sex</th>\n",
              "      <th>localization</th>\n",
              "      <th>path</th>\n",
              "      <th>tipo_lesao</th>\n",
              "      <th>tipo_lesao_idx</th>\n",
              "      <th>duplicates</th>\n",
              "    </tr>\n",
              "  </thead>\n",
              "  <tbody>\n",
              "    <tr>\n",
              "      <th>5946</th>\n",
              "      <td>HAM_0004361</td>\n",
              "      <td>ISIC_0030515</td>\n",
              "      <td>nv</td>\n",
              "      <td>follow_up</td>\n",
              "      <td>45.0</td>\n",
              "      <td>male</td>\n",
              "      <td>foot</td>\n",
              "      <td>dados_HAM/HAM10000_images_part_2/ISIC_0030515.jpg</td>\n",
              "      <td>Melanocytic nevi</td>\n",
              "      <td>4</td>\n",
              "      <td>HAM_0004361</td>\n",
              "    </tr>\n",
              "    <tr>\n",
              "      <th>7441</th>\n",
              "      <td>HAM_0000747</td>\n",
              "      <td>ISIC_0033748</td>\n",
              "      <td>nv</td>\n",
              "      <td>histo</td>\n",
              "      <td>30.0</td>\n",
              "      <td>male</td>\n",
              "      <td>trunk</td>\n",
              "      <td>dados_HAM/HAM10000_images_part_2/ISIC_0033748.jpg</td>\n",
              "      <td>Melanocytic nevi</td>\n",
              "      <td>4</td>\n",
              "      <td>HAM_0000747</td>\n",
              "    </tr>\n",
              "    <tr>\n",
              "      <th>6463</th>\n",
              "      <td>HAM_0003563</td>\n",
              "      <td>ISIC_0030075</td>\n",
              "      <td>nv</td>\n",
              "      <td>follow_up</td>\n",
              "      <td>40.0</td>\n",
              "      <td>female</td>\n",
              "      <td>abdomen</td>\n",
              "      <td>dados_HAM/HAM10000_images_part_2/ISIC_0030075.jpg</td>\n",
              "      <td>Melanocytic nevi</td>\n",
              "      <td>4</td>\n",
              "      <td>HAM_0003563</td>\n",
              "    </tr>\n",
              "  </tbody>\n",
              "</table>\n",
              "</div>"
            ],
            "text/plain": [
              "        lesion_id      image_id  dx    dx_type   age     sex localization  \\\n",
              "5946  HAM_0004361  ISIC_0030515  nv  follow_up  45.0    male         foot   \n",
              "7441  HAM_0000747  ISIC_0033748  nv      histo  30.0    male        trunk   \n",
              "6463  HAM_0003563  ISIC_0030075  nv  follow_up  40.0  female      abdomen   \n",
              "\n",
              "                                                   path        tipo_lesao  \\\n",
              "5946  dados_HAM/HAM10000_images_part_2/ISIC_0030515.jpg  Melanocytic nevi   \n",
              "7441  dados_HAM/HAM10000_images_part_2/ISIC_0033748.jpg  Melanocytic nevi   \n",
              "6463  dados_HAM/HAM10000_images_part_2/ISIC_0030075.jpg  Melanocytic nevi   \n",
              "\n",
              "      tipo_lesao_idx   duplicates  \n",
              "5946               4  HAM_0004361  \n",
              "7441               4  HAM_0000747  \n",
              "6463               4  HAM_0003563  "
            ]
          },
          "execution_count": 49,
          "metadata": {},
          "output_type": "execute_result"
        }
      ],
      "source": [
        "df_inicial.sample(3)"
      ]
    },
    {
      "cell_type": "code",
      "execution_count": null,
      "metadata": {
        "id": "g5cO6X0n-QAP"
      },
      "outputs": [],
      "source": [
        "# Aplica a função a esta nova coluna\n",
        "df_inicial['duplicates'] = df_inicial['duplicates'].apply(dsa_get_duplicates)"
      ]
    },
    {
      "cell_type": "code",
      "execution_count": null,
      "metadata": {
        "id": "BYF2SEjQ-QAP",
        "outputId": "ece5c145-9be6-4c48-8ed4-2077b174a2f4"
      },
      "outputs": [
        {
          "data": {
            "text/html": [
              "<div>\n",
              "<style scoped>\n",
              "    .dataframe tbody tr th:only-of-type {\n",
              "        vertical-align: middle;\n",
              "    }\n",
              "\n",
              "    .dataframe tbody tr th {\n",
              "        vertical-align: top;\n",
              "    }\n",
              "\n",
              "    .dataframe thead th {\n",
              "        text-align: right;\n",
              "    }\n",
              "</style>\n",
              "<table border=\"1\" class=\"dataframe\">\n",
              "  <thead>\n",
              "    <tr style=\"text-align: right;\">\n",
              "      <th></th>\n",
              "      <th>lesion_id</th>\n",
              "      <th>image_id</th>\n",
              "      <th>dx</th>\n",
              "      <th>dx_type</th>\n",
              "      <th>age</th>\n",
              "      <th>sex</th>\n",
              "      <th>localization</th>\n",
              "      <th>path</th>\n",
              "      <th>tipo_lesao</th>\n",
              "      <th>tipo_lesao_idx</th>\n",
              "      <th>duplicates</th>\n",
              "    </tr>\n",
              "  </thead>\n",
              "  <tbody>\n",
              "    <tr>\n",
              "      <th>2326</th>\n",
              "      <td>HAM_0002692</td>\n",
              "      <td>ISIC_0029404</td>\n",
              "      <td>vasc</td>\n",
              "      <td>histo</td>\n",
              "      <td>10.0</td>\n",
              "      <td>male</td>\n",
              "      <td>trunk</td>\n",
              "      <td>dados/HAM10000_images_part_2/ISIC_0029404.jpg</td>\n",
              "      <td>Vascular lesions</td>\n",
              "      <td>6</td>\n",
              "      <td>duplicated</td>\n",
              "    </tr>\n",
              "    <tr>\n",
              "      <th>3052</th>\n",
              "      <td>HAM_0001061</td>\n",
              "      <td>ISIC_0029526</td>\n",
              "      <td>nv</td>\n",
              "      <td>follow_up</td>\n",
              "      <td>45.0</td>\n",
              "      <td>male</td>\n",
              "      <td>back</td>\n",
              "      <td>dados/HAM10000_images_part_2/ISIC_0029526.jpg</td>\n",
              "      <td>Melanocytic nevi</td>\n",
              "      <td>4</td>\n",
              "      <td>unduplicated</td>\n",
              "    </tr>\n",
              "    <tr>\n",
              "      <th>2837</th>\n",
              "      <td>HAM_0004827</td>\n",
              "      <td>ISIC_0027819</td>\n",
              "      <td>bcc</td>\n",
              "      <td>histo</td>\n",
              "      <td>50.0</td>\n",
              "      <td>female</td>\n",
              "      <td>back</td>\n",
              "      <td>dados/HAM10000_images_part_1/ISIC_0027819.jpg</td>\n",
              "      <td>Basal cell carcinoma</td>\n",
              "      <td>1</td>\n",
              "      <td>unduplicated</td>\n",
              "    </tr>\n",
              "    <tr>\n",
              "      <th>2743</th>\n",
              "      <td>HAM_0004880</td>\n",
              "      <td>ISIC_0028583</td>\n",
              "      <td>bcc</td>\n",
              "      <td>histo</td>\n",
              "      <td>65.0</td>\n",
              "      <td>male</td>\n",
              "      <td>back</td>\n",
              "      <td>dados/HAM10000_images_part_1/ISIC_0028583.jpg</td>\n",
              "      <td>Basal cell carcinoma</td>\n",
              "      <td>1</td>\n",
              "      <td>unduplicated</td>\n",
              "    </tr>\n",
              "    <tr>\n",
              "      <th>3691</th>\n",
              "      <td>HAM_0004964</td>\n",
              "      <td>ISIC_0028062</td>\n",
              "      <td>nv</td>\n",
              "      <td>follow_up</td>\n",
              "      <td>30.0</td>\n",
              "      <td>male</td>\n",
              "      <td>scalp</td>\n",
              "      <td>dados/HAM10000_images_part_1/ISIC_0028062.jpg</td>\n",
              "      <td>Melanocytic nevi</td>\n",
              "      <td>4</td>\n",
              "      <td>unduplicated</td>\n",
              "    </tr>\n",
              "  </tbody>\n",
              "</table>\n",
              "</div>"
            ],
            "text/plain": [
              "        lesion_id      image_id    dx    dx_type   age     sex localization  \\\n",
              "2326  HAM_0002692  ISIC_0029404  vasc      histo  10.0    male        trunk   \n",
              "3052  HAM_0001061  ISIC_0029526    nv  follow_up  45.0    male         back   \n",
              "2837  HAM_0004827  ISIC_0027819   bcc      histo  50.0  female         back   \n",
              "2743  HAM_0004880  ISIC_0028583   bcc      histo  65.0    male         back   \n",
              "3691  HAM_0004964  ISIC_0028062    nv  follow_up  30.0    male        scalp   \n",
              "\n",
              "                                               path            tipo_lesao  \\\n",
              "2326  dados/HAM10000_images_part_2/ISIC_0029404.jpg      Vascular lesions   \n",
              "3052  dados/HAM10000_images_part_2/ISIC_0029526.jpg      Melanocytic nevi   \n",
              "2837  dados/HAM10000_images_part_1/ISIC_0027819.jpg  Basal cell carcinoma   \n",
              "2743  dados/HAM10000_images_part_1/ISIC_0028583.jpg  Basal cell carcinoma   \n",
              "3691  dados/HAM10000_images_part_1/ISIC_0028062.jpg      Melanocytic nevi   \n",
              "\n",
              "      tipo_lesao_idx    duplicates  \n",
              "2326               6    duplicated  \n",
              "3052               4  unduplicated  \n",
              "2837               1  unduplicated  \n",
              "2743               1  unduplicated  \n",
              "3691               4  unduplicated  "
            ]
          },
          "execution_count": 30,
          "metadata": {},
          "output_type": "execute_result"
        }
      ],
      "source": [
        "df_inicial.sample(5)"
      ]
    },
    {
      "cell_type": "code",
      "execution_count": null,
      "metadata": {
        "id": "asI8pgxg-QAQ",
        "outputId": "316c18f6-41ef-49c6-f8de-56c561052076"
      },
      "outputs": [
        {
          "data": {
            "text/plain": [
              "duplicates\n",
              "unduplicated    5514\n",
              "duplicated      4501\n",
              "Name: count, dtype: int64"
            ]
          },
          "execution_count": 31,
          "metadata": {},
          "output_type": "execute_result"
        }
      ],
      "source": [
        "# Vamos contar as duplicatas\n",
        "df_inicial['duplicates'].value_counts()"
      ]
    },
    {
      "cell_type": "code",
      "execution_count": null,
      "metadata": {
        "id": "Tcb_jZXo-QAQ"
      },
      "outputs": [],
      "source": [
        "# Agora filtramos as imagens que não têm duplicatas\n",
        "df_temp = df_inicial[df_inicial['duplicates'] == 'unduplicated']"
      ]
    },
    {
      "cell_type": "code",
      "execution_count": null,
      "metadata": {
        "id": "7SPAnYoa-QAQ",
        "outputId": "af1eafd5-91e5-40ba-c67b-079bccd51cd2"
      },
      "outputs": [
        {
          "data": {
            "text/plain": [
              "(5514, 11)"
            ]
          },
          "execution_count": 33,
          "metadata": {},
          "output_type": "execute_result"
        }
      ],
      "source": [
        "df_temp.shape"
      ]
    },
    {
      "cell_type": "code",
      "execution_count": null,
      "metadata": {
        "id": "wcLVHa0p-QAR"
      },
      "outputs": [],
      "source": [
        "# Definimos y\n",
        "y = df_temp['tipo_lesao_idx']"
      ]
    },
    {
      "cell_type": "code",
      "execution_count": null,
      "metadata": {
        "id": "JvDnlv93-QAR"
      },
      "outputs": [],
      "source": [
        "# Agora criamos o dataset de validação com 20% das imagens usando df_temp\n",
        "# porque temos certeza de que nenhuma dessas imagens tem duplicatas\n",
        "_, df_val = train_test_split(df_temp, test_size = 0.2, random_state = 101, stratify = y)"
      ]
    },
    {
      "cell_type": "code",
      "execution_count": null,
      "metadata": {
        "id": "2zYjTQ0j-QAb",
        "outputId": "86070404-0f0c-47f0-ea8f-67b243464ec3"
      },
      "outputs": [
        {
          "data": {
            "text/plain": [
              "(1103, 11)"
            ]
          },
          "execution_count": 36,
          "metadata": {},
          "output_type": "execute_result"
        }
      ],
      "source": [
        "df_val.shape"
      ]
    },
    {
      "cell_type": "code",
      "execution_count": null,
      "metadata": {
        "id": "o1usr8fn-QAc",
        "outputId": "252b6d86-022c-4733-c7c0-7fb2e21d19a3"
      },
      "outputs": [
        {
          "data": {
            "text/plain": [
              "tipo_lesao_idx\n",
              "4    883\n",
              "2     88\n",
              "5     46\n",
              "1     35\n",
              "0     30\n",
              "6     13\n",
              "3      8\n",
              "Name: count, dtype: int64"
            ]
          },
          "execution_count": 37,
          "metadata": {},
          "output_type": "execute_result"
        }
      ],
      "source": [
        "df_val['tipo_lesao_idx'].value_counts()"
      ]
    },
    {
      "cell_type": "markdown",
      "metadata": {
        "id": "MAhzriv_-QAd"
      },
      "source": [
        "### 3- Separação das Amostras de Treino e Validação"
      ]
    },
    {
      "cell_type": "code",
      "execution_count": null,
      "metadata": {
        "id": "ThgP2iE9-QAd"
      },
      "outputs": [],
      "source": [
        "# Esta função identifica se uma imagem faz parte do conjunto train ou val\n",
        "def dsa_get_val_rows(x):\n",
        "    val_list = list(df_val['image_id'])\n",
        "    if str(x) in val_list:\n",
        "        return 'valid'\n",
        "    else:\n",
        "        return 'treino'"
      ]
    },
    {
      "cell_type": "code",
      "execution_count": null,
      "metadata": {
        "id": "TmUBnHuV-QAe"
      },
      "outputs": [],
      "source": [
        "# Identifica treino ou validação\n",
        "df_inicial['treino_ou_valid'] = df_inicial['image_id']"
      ]
    },
    {
      "cell_type": "code",
      "execution_count": null,
      "metadata": {
        "id": "9FMGrsaU-QAe"
      },
      "outputs": [],
      "source": [
        "# Aplica a função a esta nova coluna\n",
        "df_inicial['treino_ou_valid'] = df_inicial['treino_ou_valid'].apply(dsa_get_val_rows)"
      ]
    },
    {
      "cell_type": "code",
      "execution_count": null,
      "metadata": {
        "id": "ToTVEDgi-QAf",
        "outputId": "aa9798ee-8417-4ca9-c1a7-269e09a0b72b"
      },
      "outputs": [
        {
          "data": {
            "text/html": [
              "<div>\n",
              "<style scoped>\n",
              "    .dataframe tbody tr th:only-of-type {\n",
              "        vertical-align: middle;\n",
              "    }\n",
              "\n",
              "    .dataframe tbody tr th {\n",
              "        vertical-align: top;\n",
              "    }\n",
              "\n",
              "    .dataframe thead th {\n",
              "        text-align: right;\n",
              "    }\n",
              "</style>\n",
              "<table border=\"1\" class=\"dataframe\">\n",
              "  <thead>\n",
              "    <tr style=\"text-align: right;\">\n",
              "      <th></th>\n",
              "      <th>lesion_id</th>\n",
              "      <th>image_id</th>\n",
              "      <th>dx</th>\n",
              "      <th>dx_type</th>\n",
              "      <th>age</th>\n",
              "      <th>sex</th>\n",
              "      <th>localization</th>\n",
              "      <th>path</th>\n",
              "      <th>tipo_lesao</th>\n",
              "      <th>tipo_lesao_idx</th>\n",
              "      <th>duplicates</th>\n",
              "      <th>treino_ou_valid</th>\n",
              "    </tr>\n",
              "  </thead>\n",
              "  <tbody>\n",
              "    <tr>\n",
              "      <th>7824</th>\n",
              "      <td>HAM_0007433</td>\n",
              "      <td>ISIC_0033149</td>\n",
              "      <td>nv</td>\n",
              "      <td>histo</td>\n",
              "      <td>45.0</td>\n",
              "      <td>male</td>\n",
              "      <td>back</td>\n",
              "      <td>dados/HAM10000_images_part_2/ISIC_0033149.jpg</td>\n",
              "      <td>Melanocytic nevi</td>\n",
              "      <td>4</td>\n",
              "      <td>duplicated</td>\n",
              "      <td>treino</td>\n",
              "    </tr>\n",
              "    <tr>\n",
              "      <th>3103</th>\n",
              "      <td>HAM_0000408</td>\n",
              "      <td>ISIC_0027000</td>\n",
              "      <td>nv</td>\n",
              "      <td>follow_up</td>\n",
              "      <td>45.0</td>\n",
              "      <td>female</td>\n",
              "      <td>lower extremity</td>\n",
              "      <td>dados/HAM10000_images_part_1/ISIC_0027000.jpg</td>\n",
              "      <td>Melanocytic nevi</td>\n",
              "      <td>4</td>\n",
              "      <td>unduplicated</td>\n",
              "      <td>treino</td>\n",
              "    </tr>\n",
              "    <tr>\n",
              "      <th>3495</th>\n",
              "      <td>HAM_0000768</td>\n",
              "      <td>ISIC_0028242</td>\n",
              "      <td>nv</td>\n",
              "      <td>follow_up</td>\n",
              "      <td>35.0</td>\n",
              "      <td>male</td>\n",
              "      <td>back</td>\n",
              "      <td>dados/HAM10000_images_part_1/ISIC_0028242.jpg</td>\n",
              "      <td>Melanocytic nevi</td>\n",
              "      <td>4</td>\n",
              "      <td>unduplicated</td>\n",
              "      <td>treino</td>\n",
              "    </tr>\n",
              "    <tr>\n",
              "      <th>9498</th>\n",
              "      <td>HAM_0003968</td>\n",
              "      <td>ISIC_0032796</td>\n",
              "      <td>nv</td>\n",
              "      <td>consensus</td>\n",
              "      <td>35.0</td>\n",
              "      <td>female</td>\n",
              "      <td>back</td>\n",
              "      <td>dados/HAM10000_images_part_2/ISIC_0032796.jpg</td>\n",
              "      <td>Melanocytic nevi</td>\n",
              "      <td>4</td>\n",
              "      <td>duplicated</td>\n",
              "      <td>treino</td>\n",
              "    </tr>\n",
              "    <tr>\n",
              "      <th>175</th>\n",
              "      <td>HAM_0006801</td>\n",
              "      <td>ISIC_0032688</td>\n",
              "      <td>bkl</td>\n",
              "      <td>histo</td>\n",
              "      <td>60.0</td>\n",
              "      <td>female</td>\n",
              "      <td>lower extremity</td>\n",
              "      <td>dados/HAM10000_images_part_2/ISIC_0032688.jpg</td>\n",
              "      <td>Benign keratosis-like</td>\n",
              "      <td>2</td>\n",
              "      <td>duplicated</td>\n",
              "      <td>treino</td>\n",
              "    </tr>\n",
              "    <tr>\n",
              "      <th>9387</th>\n",
              "      <td>HAM_0000698</td>\n",
              "      <td>ISIC_0027431</td>\n",
              "      <td>nv</td>\n",
              "      <td>consensus</td>\n",
              "      <td>NaN</td>\n",
              "      <td>male</td>\n",
              "      <td>foot</td>\n",
              "      <td>dados/HAM10000_images_part_1/ISIC_0027431.jpg</td>\n",
              "      <td>Melanocytic nevi</td>\n",
              "      <td>4</td>\n",
              "      <td>duplicated</td>\n",
              "      <td>treino</td>\n",
              "    </tr>\n",
              "    <tr>\n",
              "      <th>3188</th>\n",
              "      <td>HAM_0000789</td>\n",
              "      <td>ISIC_0028932</td>\n",
              "      <td>nv</td>\n",
              "      <td>follow_up</td>\n",
              "      <td>40.0</td>\n",
              "      <td>male</td>\n",
              "      <td>abdomen</td>\n",
              "      <td>dados/HAM10000_images_part_1/ISIC_0028932.jpg</td>\n",
              "      <td>Melanocytic nevi</td>\n",
              "      <td>4</td>\n",
              "      <td>unduplicated</td>\n",
              "      <td>treino</td>\n",
              "    </tr>\n",
              "    <tr>\n",
              "      <th>5786</th>\n",
              "      <td>HAM_0003270</td>\n",
              "      <td>ISIC_0025764</td>\n",
              "      <td>nv</td>\n",
              "      <td>follow_up</td>\n",
              "      <td>35.0</td>\n",
              "      <td>male</td>\n",
              "      <td>back</td>\n",
              "      <td>dados/HAM10000_images_part_1/ISIC_0025764.jpg</td>\n",
              "      <td>Melanocytic nevi</td>\n",
              "      <td>4</td>\n",
              "      <td>unduplicated</td>\n",
              "      <td>treino</td>\n",
              "    </tr>\n",
              "    <tr>\n",
              "      <th>7830</th>\n",
              "      <td>HAM_0006121</td>\n",
              "      <td>ISIC_0032855</td>\n",
              "      <td>nv</td>\n",
              "      <td>histo</td>\n",
              "      <td>20.0</td>\n",
              "      <td>female</td>\n",
              "      <td>chest</td>\n",
              "      <td>dados/HAM10000_images_part_2/ISIC_0032855.jpg</td>\n",
              "      <td>Melanocytic nevi</td>\n",
              "      <td>4</td>\n",
              "      <td>duplicated</td>\n",
              "      <td>treino</td>\n",
              "    </tr>\n",
              "    <tr>\n",
              "      <th>1133</th>\n",
              "      <td>HAM_0002895</td>\n",
              "      <td>ISIC_0029578</td>\n",
              "      <td>df</td>\n",
              "      <td>histo</td>\n",
              "      <td>60.0</td>\n",
              "      <td>male</td>\n",
              "      <td>lower extremity</td>\n",
              "      <td>dados/HAM10000_images_part_2/ISIC_0029578.jpg</td>\n",
              "      <td>Dermatofibroma</td>\n",
              "      <td>3</td>\n",
              "      <td>unduplicated</td>\n",
              "      <td>valid</td>\n",
              "    </tr>\n",
              "  </tbody>\n",
              "</table>\n",
              "</div>"
            ],
            "text/plain": [
              "        lesion_id      image_id   dx    dx_type   age     sex  \\\n",
              "7824  HAM_0007433  ISIC_0033149   nv      histo  45.0    male   \n",
              "3103  HAM_0000408  ISIC_0027000   nv  follow_up  45.0  female   \n",
              "3495  HAM_0000768  ISIC_0028242   nv  follow_up  35.0    male   \n",
              "9498  HAM_0003968  ISIC_0032796   nv  consensus  35.0  female   \n",
              "175   HAM_0006801  ISIC_0032688  bkl      histo  60.0  female   \n",
              "9387  HAM_0000698  ISIC_0027431   nv  consensus   NaN    male   \n",
              "3188  HAM_0000789  ISIC_0028932   nv  follow_up  40.0    male   \n",
              "5786  HAM_0003270  ISIC_0025764   nv  follow_up  35.0    male   \n",
              "7830  HAM_0006121  ISIC_0032855   nv      histo  20.0  female   \n",
              "1133  HAM_0002895  ISIC_0029578   df      histo  60.0    male   \n",
              "\n",
              "         localization                                           path  \\\n",
              "7824             back  dados/HAM10000_images_part_2/ISIC_0033149.jpg   \n",
              "3103  lower extremity  dados/HAM10000_images_part_1/ISIC_0027000.jpg   \n",
              "3495             back  dados/HAM10000_images_part_1/ISIC_0028242.jpg   \n",
              "9498             back  dados/HAM10000_images_part_2/ISIC_0032796.jpg   \n",
              "175   lower extremity  dados/HAM10000_images_part_2/ISIC_0032688.jpg   \n",
              "9387             foot  dados/HAM10000_images_part_1/ISIC_0027431.jpg   \n",
              "3188          abdomen  dados/HAM10000_images_part_1/ISIC_0028932.jpg   \n",
              "5786             back  dados/HAM10000_images_part_1/ISIC_0025764.jpg   \n",
              "7830            chest  dados/HAM10000_images_part_2/ISIC_0032855.jpg   \n",
              "1133  lower extremity  dados/HAM10000_images_part_2/ISIC_0029578.jpg   \n",
              "\n",
              "                 tipo_lesao  tipo_lesao_idx    duplicates treino_ou_valid  \n",
              "7824       Melanocytic nevi               4    duplicated          treino  \n",
              "3103       Melanocytic nevi               4  unduplicated          treino  \n",
              "3495       Melanocytic nevi               4  unduplicated          treino  \n",
              "9498       Melanocytic nevi               4    duplicated          treino  \n",
              "175   Benign keratosis-like               2    duplicated          treino  \n",
              "9387       Melanocytic nevi               4    duplicated          treino  \n",
              "3188       Melanocytic nevi               4  unduplicated          treino  \n",
              "5786       Melanocytic nevi               4  unduplicated          treino  \n",
              "7830       Melanocytic nevi               4    duplicated          treino  \n",
              "1133         Dermatofibroma               3  unduplicated           valid  "
            ]
          },
          "execution_count": 41,
          "metadata": {},
          "output_type": "execute_result"
        }
      ],
      "source": [
        "df_inicial.sample(10)"
      ]
    },
    {
      "cell_type": "code",
      "execution_count": null,
      "metadata": {
        "id": "6AkdjclV-QAg"
      },
      "outputs": [],
      "source": [
        "# Filtra as linhas de treino\n",
        "df_treino = df_inicial[df_inicial['treino_ou_valid'] == 'treino']"
      ]
    },
    {
      "cell_type": "code",
      "execution_count": null,
      "metadata": {
        "id": "YGsXVKd--QAg",
        "outputId": "b9f343d8-10e7-42e4-95a0-7b43e5d79b17"
      },
      "outputs": [
        {
          "name": "stdout",
          "output_type": "stream",
          "text": [
            "8912\n"
          ]
        }
      ],
      "source": [
        "print(len(df_treino))"
      ]
    },
    {
      "cell_type": "code",
      "execution_count": null,
      "metadata": {
        "id": "8-RU0UKd-QAg",
        "outputId": "b5d79a6c-7dae-4d8c-d66e-c1d82cd537c3"
      },
      "outputs": [
        {
          "name": "stdout",
          "output_type": "stream",
          "text": [
            "1103\n"
          ]
        }
      ],
      "source": [
        "print(len(df_val))"
      ]
    },
    {
      "cell_type": "code",
      "execution_count": null,
      "metadata": {
        "id": "tw-RFDrr-QAh",
        "outputId": "59825402-ac7a-4a70-902c-b8180bd82d07"
      },
      "outputs": [
        {
          "data": {
            "text/plain": [
              "tipo_lesao_idx\n",
              "4    5822\n",
              "5    1067\n",
              "2    1011\n",
              "1     479\n",
              "0     297\n",
              "6     129\n",
              "3     107\n",
              "Name: count, dtype: int64"
            ]
          },
          "execution_count": 45,
          "metadata": {},
          "output_type": "execute_result"
        }
      ],
      "source": [
        "df_treino['tipo_lesao_idx'].value_counts()"
      ]
    },
    {
      "cell_type": "code",
      "execution_count": null,
      "metadata": {
        "id": "SexS4qn0-QAh",
        "outputId": "ffb5d689-ba47-433b-9ea2-74935271b9f9"
      },
      "outputs": [
        {
          "data": {
            "text/plain": [
              "tipo_lesao\n",
              "Melanocytic nevi         5822\n",
              "Melanoma                 1067\n",
              "Benign keratosis-like    1011\n",
              "Basal cell carcinoma      479\n",
              "Actinic keratoses         297\n",
              "Vascular lesions          129\n",
              "Dermatofibroma            107\n",
              "Name: count, dtype: int64"
            ]
          },
          "execution_count": 46,
          "metadata": {},
          "output_type": "execute_result"
        }
      ],
      "source": [
        "df_treino['tipo_lesao'].value_counts()"
      ]
    },
    {
      "cell_type": "code",
      "execution_count": null,
      "metadata": {
        "id": "wqeK6QmD-QAh",
        "outputId": "d4a19943-0113-420a-afd7-bd55d164c383"
      },
      "outputs": [
        {
          "data": {
            "text/plain": [
              "tipo_lesao\n",
              "Melanocytic nevi         883\n",
              "Benign keratosis-like     88\n",
              "Melanoma                  46\n",
              "Basal cell carcinoma      35\n",
              "Actinic keratoses         30\n",
              "Vascular lesions          13\n",
              "Dermatofibroma             8\n",
              "Name: count, dtype: int64"
            ]
          },
          "execution_count": 47,
          "metadata": {},
          "output_type": "execute_result"
        }
      ],
      "source": [
        "df_val['tipo_lesao'].value_counts()"
      ]
    },
    {
      "cell_type": "markdown",
      "metadata": {
        "id": "2G-UYw5K-QAh"
      },
      "source": [
        "### 4- Dataset Augmentation Para Balanceamento de Classe"
      ]
    },
    {
      "cell_type": "markdown",
      "metadata": {
        "id": "cAdddpQc-QAi"
      },
      "source": [
        "Podemos ver que há um sério desequilíbrio de classe nos dados de treinamento. Para resolver esse problema faremos um balanceamento de classes aumentando a quantidade das classes minoritárias (oversampling). Outra alternativa seria reduzir as classes majoritárias (undersampling)."
      ]
    },
    {
      "cell_type": "code",
      "execution_count": null,
      "metadata": {
        "id": "BEkQGdIi-QAi",
        "outputId": "744039be-0370-404f-98e3-90ecbdb57e41"
      },
      "outputs": [
        {
          "data": {
            "text/plain": [
              "tipo_lesao_idx\n",
              "0     297\n",
              "1     479\n",
              "2    1011\n",
              "3     107\n",
              "4    5822\n",
              "5    1067\n",
              "6     129\n",
              "Name: count, dtype: int64"
            ]
          },
          "execution_count": 48,
          "metadata": {},
          "output_type": "execute_result"
        }
      ],
      "source": [
        "# Contagem de registros por classe\n",
        "df_treino['tipo_lesao_idx'].value_counts().sort_index()"
      ]
    },
    {
      "cell_type": "code",
      "execution_count": null,
      "metadata": {
        "id": "cw7Rt-1y-QAi"
      },
      "outputs": [],
      "source": [
        "# Taxa de dataset augmentation a ser usada em cada classe\n",
        "data_aug_rate = [15,10,5,40,0,5,15]"
      ]
    },
    {
      "cell_type": "code",
      "execution_count": null,
      "metadata": {
        "id": "ntLeJcND-QAi"
      },
      "outputs": [],
      "source": [
        "# Inicia um loop que iterará 7 vezes (pelas 7 classes de imagens)\n",
        "for i in range(7):\n",
        "\n",
        "    # Verifica se existe uma taxa de aumento de dados especificada para a classe i\n",
        "    if data_aug_rate[i]:\n",
        "\n",
        "        # Se houver, repete as linhas da classe i conforme a taxa especificada em data_aug_rate[i]\n",
        "        # Concatena múltiplas cópias das linhas da classe i para aumentar artificialmente o conjunto de dados\n",
        "        rows_to_add = pd.concat([df_treino.loc[df_treino['tipo_lesao_idx'] == i, :]] * (data_aug_rate[i] - 1),\n",
        "                                ignore_index = True)\n",
        "\n",
        "        # Adiciona as novas linhas ao DataFrame de treino, aumentando o número de exemplos para a classe i\n",
        "        df_treino = pd.concat([df_treino,\n",
        "                               rows_to_add],\n",
        "                              ignore_index = True)"
      ]
    },
    {
      "cell_type": "code",
      "execution_count": null,
      "metadata": {
        "id": "eVLwOoO4-QAj",
        "outputId": "d1c468c2-7fc2-4ee2-b4f2-6dd53dbf7f7e"
      },
      "outputs": [
        {
          "data": {
            "text/plain": [
              "tipo_lesao\n",
              "Melanocytic nevi         5822\n",
              "Melanoma                 5335\n",
              "Benign keratosis-like    5055\n",
              "Basal cell carcinoma     4790\n",
              "Actinic keratoses        4455\n",
              "Dermatofibroma           4280\n",
              "Vascular lesions         1935\n",
              "Name: count, dtype: int64"
            ]
          },
          "execution_count": 51,
          "metadata": {},
          "output_type": "execute_result"
        }
      ],
      "source": [
        "df_treino['tipo_lesao'].value_counts()"
      ]
    },
    {
      "cell_type": "code",
      "execution_count": null,
      "metadata": {
        "id": "6aTNqoip-QAj"
      },
      "outputs": [],
      "source": [
        "# Reset do índice\n",
        "df_treino = df_treino.reset_index()"
      ]
    },
    {
      "cell_type": "code",
      "execution_count": null,
      "metadata": {
        "id": "ZAQvW3Ri-QAj",
        "outputId": "7f032a60-899e-4a57-cea1-f3f3490c1639"
      },
      "outputs": [
        {
          "data": {
            "text/plain": [
              "(31672, 13)"
            ]
          },
          "execution_count": 53,
          "metadata": {},
          "output_type": "execute_result"
        }
      ],
      "source": [
        "df_treino.shape"
      ]
    },
    {
      "cell_type": "markdown",
      "metadata": {
        "id": "WK-uTIQJ-QAk"
      },
      "source": [
        "### 5- Preparação das Amostras de Treino, Validação e Teste"
      ]
    },
    {
      "cell_type": "code",
      "execution_count": null,
      "metadata": {
        "id": "Qp8huyj4-QAk"
      },
      "outputs": [],
      "source": [
        "# Podemos dividir o conjunto de validação em um conjunto de validação e um conjunto de teste\n",
        "df_val, df_teste = train_test_split(df_val, test_size = 0.5)"
      ]
    },
    {
      "cell_type": "code",
      "execution_count": null,
      "metadata": {
        "id": "y0S7mQ3h-QAk"
      },
      "outputs": [],
      "source": [
        "# Reset do índice\n",
        "df_val = df_val.reset_index()\n",
        "df_teste = df_teste.reset_index()"
      ]
    },
    {
      "cell_type": "code",
      "execution_count": null,
      "metadata": {
        "id": "DEZvShsE-QAl",
        "outputId": "2cdb003a-211e-4e54-d173-5e2d2dd2cdb1"
      },
      "outputs": [
        {
          "data": {
            "text/plain": [
              "(551, 12)"
            ]
          },
          "execution_count": 56,
          "metadata": {},
          "output_type": "execute_result"
        }
      ],
      "source": [
        "df_val.shape"
      ]
    },
    {
      "cell_type": "code",
      "execution_count": null,
      "metadata": {
        "id": "GPdUkr49-QAl",
        "outputId": "0966acc4-4b68-4e5d-ea08-e31255e2a3d7"
      },
      "outputs": [
        {
          "data": {
            "text/plain": [
              "(552, 12)"
            ]
          },
          "execution_count": 57,
          "metadata": {},
          "output_type": "execute_result"
        }
      ],
      "source": [
        "df_teste.shape"
      ]
    },
    {
      "cell_type": "code",
      "execution_count": null,
      "metadata": {
        "id": "uG6jzGVS-QAp",
        "outputId": "3260ba95-6024-4918-9930-fc9f847d8b80"
      },
      "outputs": [
        {
          "data": {
            "text/plain": [
              "(31672, 13)"
            ]
          },
          "execution_count": 58,
          "metadata": {},
          "output_type": "execute_result"
        }
      ],
      "source": [
        "df_treino.shape"
      ]
    },
    {
      "cell_type": "markdown",
      "metadata": {
        "id": "gujZXr-P-QAq"
      },
      "source": [
        "### 6- Transformações das Imagens"
      ]
    },
    {
      "cell_type": "code",
      "execution_count": null,
      "metadata": {
        "id": "nk9dfSGu-QAq"
      },
      "outputs": [],
      "source": [
        "# Tamanho (pixels) das imagens de entrada (tamanho usado no modelo DenseNet)\n",
        "input_size = 224"
      ]
    },
    {
      "cell_type": "code",
      "execution_count": null,
      "metadata": {
        "id": "NMz_KyR2-QAr"
      },
      "outputs": [],
      "source": [
        "# Transformações das imagens de treino\n",
        "transform_treino = transforms.Compose([transforms.Resize((input_size, input_size)),\n",
        "                                       transforms.RandomHorizontalFlip(),\n",
        "                                       transforms.RandomVerticalFlip(),\n",
        "                                       transforms.RandomRotation(20),\n",
        "                                       transforms.ColorJitter(brightness = 0.1, contrast = 0.1, hue = 0.1),\n",
        "                                       transforms.ToTensor(),\n",
        "                                       transforms.Normalize(norm_mean, norm_std)])"
      ]
    },
    {
      "cell_type": "code",
      "execution_count": null,
      "metadata": {
        "id": "PK_rgd5m-QAr"
      },
      "outputs": [],
      "source": [
        "# Transformações das imagens de validação\n",
        "transform_val = transforms.Compose([transforms.Resize((input_size, input_size)),\n",
        "                                    transforms.ToTensor(),\n",
        "                                    transforms.Normalize(norm_mean, norm_std)])"
      ]
    },
    {
      "cell_type": "code",
      "execution_count": null,
      "metadata": {
        "id": "KpMSvfr0-QAr"
      },
      "outputs": [],
      "source": [
        "# Carrega o módulo de organização dos dados\n",
        "from dsa_organiza_dados import OrganizaDados"
      ]
    },
    {
      "cell_type": "code",
      "execution_count": null,
      "metadata": {
        "id": "LC_Mm4H_-QAs"
      },
      "outputs": [],
      "source": [
        "# Organiza e transforma os dados de treino\n",
        "set_treino = OrganizaDados(df_treino, transform = transform_treino)"
      ]
    },
    {
      "cell_type": "code",
      "execution_count": null,
      "metadata": {
        "id": "RDj63sJq-QAs"
      },
      "outputs": [],
      "source": [
        "# O mesmo em validação\n",
        "set_val = OrganizaDados(df_val, transform = transform_val)"
      ]
    },
    {
      "cell_type": "code",
      "execution_count": null,
      "metadata": {
        "id": "C71MYl0m-QAs"
      },
      "outputs": [],
      "source": [
        "# O mesmo em teste\n",
        "set_teste = OrganizaDados(df_teste, transform = transform_val)"
      ]
    },
    {
      "cell_type": "markdown",
      "metadata": {
        "id": "XZ0XmsbS-QAt"
      },
      "source": [
        "### 7- Criação dos DataLoaders"
      ]
    },
    {
      "cell_type": "code",
      "execution_count": null,
      "metadata": {
        "id": "pBuB2wOS-QAt"
      },
      "outputs": [],
      "source": [
        "# Cria o dataloader de treino\n",
        "loader_treino = DataLoader(set_treino, batch_size = 32, shuffle = True, num_workers = 4)"
      ]
    },
    {
      "cell_type": "code",
      "execution_count": null,
      "metadata": {
        "id": "xfhofULh-QAu"
      },
      "outputs": [],
      "source": [
        "# Cria o dataloader de validação\n",
        "loader_val = DataLoader(set_val, batch_size = 32, shuffle = False, num_workers = 4)"
      ]
    },
    {
      "cell_type": "code",
      "execution_count": null,
      "metadata": {
        "id": "Hz34KgaH-QAu"
      },
      "outputs": [],
      "source": [
        "# Cria o dataloader de teste\n",
        "loader_teste = DataLoader(set_teste, batch_size = 32, shuffle = False, num_workers = 4)"
      ]
    },
    {
      "cell_type": "markdown",
      "metadata": {
        "id": "ZrmdH2aR-QAu"
      },
      "source": [
        "## Modelagem - Construção do Modelo de Deep Learning\n",
        "\n",
        "Veja a descrição da arquitetura DenseNet no videobook no Capítulo 8 do curso."
      ]
    },
    {
      "cell_type": "markdown",
      "metadata": {
        "id": "IYv9De7W-QAv"
      },
      "source": [
        "https://pytorch.org/vision/main/models/generated/torchvision.models.densenet121.html"
      ]
    },
    {
      "cell_type": "code",
      "execution_count": null,
      "metadata": {
        "id": "GJESeOJ4-QAv"
      },
      "outputs": [],
      "source": [
        "# Define o número de classes\n",
        "num_classes = 7"
      ]
    },
    {
      "cell_type": "code",
      "execution_count": null,
      "metadata": {
        "id": "q_BtIJAT-QAv"
      },
      "outputs": [],
      "source": [
        "# Carregamos o modelo pré-treinado com todos os pesos\n",
        "modelo_densenet = models.densenet121(pretrained = True)"
      ]
    },
    {
      "cell_type": "code",
      "execution_count": null,
      "metadata": {
        "id": "IypcQ8vK-QAw"
      },
      "outputs": [],
      "source": [
        "# Define o número de atributos de entrada\n",
        "num_ftrs = modelo_densenet.classifier.in_features"
      ]
    },
    {
      "cell_type": "code",
      "execution_count": null,
      "metadata": {
        "id": "WtiFolyt-QAw",
        "outputId": "f293858d-3b1a-4e96-aa68-951051571907"
      },
      "outputs": [
        {
          "data": {
            "text/plain": [
              "1024"
            ]
          },
          "execution_count": 72,
          "metadata": {},
          "output_type": "execute_result"
        }
      ],
      "source": [
        "num_ftrs"
      ]
    },
    {
      "cell_type": "code",
      "execution_count": null,
      "metadata": {
        "id": "y2_WiUSM-QAw"
      },
      "outputs": [],
      "source": [
        "# Camada linear final para prever a probabilidade das 7 classes com as quais estamos trabalhando\n",
        "modelo_densenet.fc = nn.Linear(num_ftrs, num_classes)"
      ]
    },
    {
      "cell_type": "code",
      "execution_count": null,
      "metadata": {
        "id": "CFax5e3W-QAw"
      },
      "outputs": [],
      "source": [
        "# Verificando o dispositivo\n",
        "processing_device = \"cuda\" if torch.cuda.is_available() else \"cpu\""
      ]
    },
    {
      "cell_type": "code",
      "execution_count": null,
      "metadata": {
        "id": "RfBtNMTu-QAx"
      },
      "outputs": [],
      "source": [
        "# Define o device\n",
        "device = processing_device"
      ]
    },
    {
      "cell_type": "code",
      "execution_count": null,
      "metadata": {
        "id": "PZAZqPhA-QAx",
        "outputId": "05ac19d9-36f1-4f12-8101-5adcc0a38f74"
      },
      "outputs": [
        {
          "name": "stdout",
          "output_type": "stream",
          "text": [
            "cuda\n"
          ]
        }
      ],
      "source": [
        "print(device)"
      ]
    },
    {
      "cell_type": "code",
      "execution_count": null,
      "metadata": {
        "id": "_oh4vck8-QAy"
      },
      "outputs": [],
      "source": [
        "# Coloca o modelo no device\n",
        "modelo = modelo_densenet.to(device)"
      ]
    },
    {
      "cell_type": "code",
      "execution_count": null,
      "metadata": {
        "id": "MdA1zd6f-QAy"
      },
      "outputs": [],
      "source": [
        "# Usaremos o otimizador Adam\n",
        "optimizer = optim.Adam(modelo.parameters(), lr = 1e-3)"
      ]
    },
    {
      "cell_type": "code",
      "execution_count": null,
      "metadata": {
        "id": "G0oXpzlK-QAz"
      },
      "outputs": [],
      "source": [
        "# Usaremos cross entropy loss como função de perda\n",
        "criterion = nn.CrossEntropyLoss().to(device)"
      ]
    },
    {
      "cell_type": "code",
      "execution_count": null,
      "metadata": {
        "id": "7yiU0tqr-QAz",
        "outputId": "34422727-be0d-48b2-db0e-b3d8ce312f9a"
      },
      "outputs": [
        {
          "name": "stdout",
          "output_type": "stream",
          "text": [
            "DenseNet(\n",
            "  (features): Sequential(\n",
            "    (conv0): Conv2d(3, 64, kernel_size=(7, 7), stride=(2, 2), padding=(3, 3), bias=False)\n",
            "    (norm0): BatchNorm2d(64, eps=1e-05, momentum=0.1, affine=True, track_running_stats=True)\n",
            "    (relu0): ReLU(inplace=True)\n",
            "    (pool0): MaxPool2d(kernel_size=3, stride=2, padding=1, dilation=1, ceil_mode=False)\n",
            "    (denseblock1): _DenseBlock(\n",
            "      (denselayer1): _DenseLayer(\n",
            "        (norm1): BatchNorm2d(64, eps=1e-05, momentum=0.1, affine=True, track_running_stats=True)\n",
            "        (relu1): ReLU(inplace=True)\n",
            "        (conv1): Conv2d(64, 128, kernel_size=(1, 1), stride=(1, 1), bias=False)\n",
            "        (norm2): BatchNorm2d(128, eps=1e-05, momentum=0.1, affine=True, track_running_stats=True)\n",
            "        (relu2): ReLU(inplace=True)\n",
            "        (conv2): Conv2d(128, 32, kernel_size=(3, 3), stride=(1, 1), padding=(1, 1), bias=False)\n",
            "      )\n",
            "      (denselayer2): _DenseLayer(\n",
            "        (norm1): BatchNorm2d(96, eps=1e-05, momentum=0.1, affine=True, track_running_stats=True)\n",
            "        (relu1): ReLU(inplace=True)\n",
            "        (conv1): Conv2d(96, 128, kernel_size=(1, 1), stride=(1, 1), bias=False)\n",
            "        (norm2): BatchNorm2d(128, eps=1e-05, momentum=0.1, affine=True, track_running_stats=True)\n",
            "        (relu2): ReLU(inplace=True)\n",
            "        (conv2): Conv2d(128, 32, kernel_size=(3, 3), stride=(1, 1), padding=(1, 1), bias=False)\n",
            "      )\n",
            "      (denselayer3): _DenseLayer(\n",
            "        (norm1): BatchNorm2d(128, eps=1e-05, momentum=0.1, affine=True, track_running_stats=True)\n",
            "        (relu1): ReLU(inplace=True)\n",
            "        (conv1): Conv2d(128, 128, kernel_size=(1, 1), stride=(1, 1), bias=False)\n",
            "        (norm2): BatchNorm2d(128, eps=1e-05, momentum=0.1, affine=True, track_running_stats=True)\n",
            "        (relu2): ReLU(inplace=True)\n",
            "        (conv2): Conv2d(128, 32, kernel_size=(3, 3), stride=(1, 1), padding=(1, 1), bias=False)\n",
            "      )\n",
            "      (denselayer4): _DenseLayer(\n",
            "        (norm1): BatchNorm2d(160, eps=1e-05, momentum=0.1, affine=True, track_running_stats=True)\n",
            "        (relu1): ReLU(inplace=True)\n",
            "        (conv1): Conv2d(160, 128, kernel_size=(1, 1), stride=(1, 1), bias=False)\n",
            "        (norm2): BatchNorm2d(128, eps=1e-05, momentum=0.1, affine=True, track_running_stats=True)\n",
            "        (relu2): ReLU(inplace=True)\n",
            "        (conv2): Conv2d(128, 32, kernel_size=(3, 3), stride=(1, 1), padding=(1, 1), bias=False)\n",
            "      )\n",
            "      (denselayer5): _DenseLayer(\n",
            "        (norm1): BatchNorm2d(192, eps=1e-05, momentum=0.1, affine=True, track_running_stats=True)\n",
            "        (relu1): ReLU(inplace=True)\n",
            "        (conv1): Conv2d(192, 128, kernel_size=(1, 1), stride=(1, 1), bias=False)\n",
            "        (norm2): BatchNorm2d(128, eps=1e-05, momentum=0.1, affine=True, track_running_stats=True)\n",
            "        (relu2): ReLU(inplace=True)\n",
            "        (conv2): Conv2d(128, 32, kernel_size=(3, 3), stride=(1, 1), padding=(1, 1), bias=False)\n",
            "      )\n",
            "      (denselayer6): _DenseLayer(\n",
            "        (norm1): BatchNorm2d(224, eps=1e-05, momentum=0.1, affine=True, track_running_stats=True)\n",
            "        (relu1): ReLU(inplace=True)\n",
            "        (conv1): Conv2d(224, 128, kernel_size=(1, 1), stride=(1, 1), bias=False)\n",
            "        (norm2): BatchNorm2d(128, eps=1e-05, momentum=0.1, affine=True, track_running_stats=True)\n",
            "        (relu2): ReLU(inplace=True)\n",
            "        (conv2): Conv2d(128, 32, kernel_size=(3, 3), stride=(1, 1), padding=(1, 1), bias=False)\n",
            "      )\n",
            "    )\n",
            "    (transition1): _Transition(\n",
            "      (norm): BatchNorm2d(256, eps=1e-05, momentum=0.1, affine=True, track_running_stats=True)\n",
            "      (relu): ReLU(inplace=True)\n",
            "      (conv): Conv2d(256, 128, kernel_size=(1, 1), stride=(1, 1), bias=False)\n",
            "      (pool): AvgPool2d(kernel_size=2, stride=2, padding=0)\n",
            "    )\n",
            "    (denseblock2): _DenseBlock(\n",
            "      (denselayer1): _DenseLayer(\n",
            "        (norm1): BatchNorm2d(128, eps=1e-05, momentum=0.1, affine=True, track_running_stats=True)\n",
            "        (relu1): ReLU(inplace=True)\n",
            "        (conv1): Conv2d(128, 128, kernel_size=(1, 1), stride=(1, 1), bias=False)\n",
            "        (norm2): BatchNorm2d(128, eps=1e-05, momentum=0.1, affine=True, track_running_stats=True)\n",
            "        (relu2): ReLU(inplace=True)\n",
            "        (conv2): Conv2d(128, 32, kernel_size=(3, 3), stride=(1, 1), padding=(1, 1), bias=False)\n",
            "      )\n",
            "      (denselayer2): _DenseLayer(\n",
            "        (norm1): BatchNorm2d(160, eps=1e-05, momentum=0.1, affine=True, track_running_stats=True)\n",
            "        (relu1): ReLU(inplace=True)\n",
            "        (conv1): Conv2d(160, 128, kernel_size=(1, 1), stride=(1, 1), bias=False)\n",
            "        (norm2): BatchNorm2d(128, eps=1e-05, momentum=0.1, affine=True, track_running_stats=True)\n",
            "        (relu2): ReLU(inplace=True)\n",
            "        (conv2): Conv2d(128, 32, kernel_size=(3, 3), stride=(1, 1), padding=(1, 1), bias=False)\n",
            "      )\n",
            "      (denselayer3): _DenseLayer(\n",
            "        (norm1): BatchNorm2d(192, eps=1e-05, momentum=0.1, affine=True, track_running_stats=True)\n",
            "        (relu1): ReLU(inplace=True)\n",
            "        (conv1): Conv2d(192, 128, kernel_size=(1, 1), stride=(1, 1), bias=False)\n",
            "        (norm2): BatchNorm2d(128, eps=1e-05, momentum=0.1, affine=True, track_running_stats=True)\n",
            "        (relu2): ReLU(inplace=True)\n",
            "        (conv2): Conv2d(128, 32, kernel_size=(3, 3), stride=(1, 1), padding=(1, 1), bias=False)\n",
            "      )\n",
            "      (denselayer4): _DenseLayer(\n",
            "        (norm1): BatchNorm2d(224, eps=1e-05, momentum=0.1, affine=True, track_running_stats=True)\n",
            "        (relu1): ReLU(inplace=True)\n",
            "        (conv1): Conv2d(224, 128, kernel_size=(1, 1), stride=(1, 1), bias=False)\n",
            "        (norm2): BatchNorm2d(128, eps=1e-05, momentum=0.1, affine=True, track_running_stats=True)\n",
            "        (relu2): ReLU(inplace=True)\n",
            "        (conv2): Conv2d(128, 32, kernel_size=(3, 3), stride=(1, 1), padding=(1, 1), bias=False)\n",
            "      )\n",
            "      (denselayer5): _DenseLayer(\n",
            "        (norm1): BatchNorm2d(256, eps=1e-05, momentum=0.1, affine=True, track_running_stats=True)\n",
            "        (relu1): ReLU(inplace=True)\n",
            "        (conv1): Conv2d(256, 128, kernel_size=(1, 1), stride=(1, 1), bias=False)\n",
            "        (norm2): BatchNorm2d(128, eps=1e-05, momentum=0.1, affine=True, track_running_stats=True)\n",
            "        (relu2): ReLU(inplace=True)\n",
            "        (conv2): Conv2d(128, 32, kernel_size=(3, 3), stride=(1, 1), padding=(1, 1), bias=False)\n",
            "      )\n",
            "      (denselayer6): _DenseLayer(\n",
            "        (norm1): BatchNorm2d(288, eps=1e-05, momentum=0.1, affine=True, track_running_stats=True)\n",
            "        (relu1): ReLU(inplace=True)\n",
            "        (conv1): Conv2d(288, 128, kernel_size=(1, 1), stride=(1, 1), bias=False)\n",
            "        (norm2): BatchNorm2d(128, eps=1e-05, momentum=0.1, affine=True, track_running_stats=True)\n",
            "        (relu2): ReLU(inplace=True)\n",
            "        (conv2): Conv2d(128, 32, kernel_size=(3, 3), stride=(1, 1), padding=(1, 1), bias=False)\n",
            "      )\n",
            "      (denselayer7): _DenseLayer(\n",
            "        (norm1): BatchNorm2d(320, eps=1e-05, momentum=0.1, affine=True, track_running_stats=True)\n",
            "        (relu1): ReLU(inplace=True)\n",
            "        (conv1): Conv2d(320, 128, kernel_size=(1, 1), stride=(1, 1), bias=False)\n",
            "        (norm2): BatchNorm2d(128, eps=1e-05, momentum=0.1, affine=True, track_running_stats=True)\n",
            "        (relu2): ReLU(inplace=True)\n",
            "        (conv2): Conv2d(128, 32, kernel_size=(3, 3), stride=(1, 1), padding=(1, 1), bias=False)\n",
            "      )\n",
            "      (denselayer8): _DenseLayer(\n",
            "        (norm1): BatchNorm2d(352, eps=1e-05, momentum=0.1, affine=True, track_running_stats=True)\n",
            "        (relu1): ReLU(inplace=True)\n",
            "        (conv1): Conv2d(352, 128, kernel_size=(1, 1), stride=(1, 1), bias=False)\n",
            "        (norm2): BatchNorm2d(128, eps=1e-05, momentum=0.1, affine=True, track_running_stats=True)\n",
            "        (relu2): ReLU(inplace=True)\n",
            "        (conv2): Conv2d(128, 32, kernel_size=(3, 3), stride=(1, 1), padding=(1, 1), bias=False)\n",
            "      )\n",
            "      (denselayer9): _DenseLayer(\n",
            "        (norm1): BatchNorm2d(384, eps=1e-05, momentum=0.1, affine=True, track_running_stats=True)\n",
            "        (relu1): ReLU(inplace=True)\n",
            "        (conv1): Conv2d(384, 128, kernel_size=(1, 1), stride=(1, 1), bias=False)\n",
            "        (norm2): BatchNorm2d(128, eps=1e-05, momentum=0.1, affine=True, track_running_stats=True)\n",
            "        (relu2): ReLU(inplace=True)\n",
            "        (conv2): Conv2d(128, 32, kernel_size=(3, 3), stride=(1, 1), padding=(1, 1), bias=False)\n",
            "      )\n",
            "      (denselayer10): _DenseLayer(\n",
            "        (norm1): BatchNorm2d(416, eps=1e-05, momentum=0.1, affine=True, track_running_stats=True)\n",
            "        (relu1): ReLU(inplace=True)\n",
            "        (conv1): Conv2d(416, 128, kernel_size=(1, 1), stride=(1, 1), bias=False)\n",
            "        (norm2): BatchNorm2d(128, eps=1e-05, momentum=0.1, affine=True, track_running_stats=True)\n",
            "        (relu2): ReLU(inplace=True)\n",
            "        (conv2): Conv2d(128, 32, kernel_size=(3, 3), stride=(1, 1), padding=(1, 1), bias=False)\n",
            "      )\n",
            "      (denselayer11): _DenseLayer(\n",
            "        (norm1): BatchNorm2d(448, eps=1e-05, momentum=0.1, affine=True, track_running_stats=True)\n",
            "        (relu1): ReLU(inplace=True)\n",
            "        (conv1): Conv2d(448, 128, kernel_size=(1, 1), stride=(1, 1), bias=False)\n",
            "        (norm2): BatchNorm2d(128, eps=1e-05, momentum=0.1, affine=True, track_running_stats=True)\n",
            "        (relu2): ReLU(inplace=True)\n",
            "        (conv2): Conv2d(128, 32, kernel_size=(3, 3), stride=(1, 1), padding=(1, 1), bias=False)\n",
            "      )\n",
            "      (denselayer12): _DenseLayer(\n",
            "        (norm1): BatchNorm2d(480, eps=1e-05, momentum=0.1, affine=True, track_running_stats=True)\n",
            "        (relu1): ReLU(inplace=True)\n",
            "        (conv1): Conv2d(480, 128, kernel_size=(1, 1), stride=(1, 1), bias=False)\n",
            "        (norm2): BatchNorm2d(128, eps=1e-05, momentum=0.1, affine=True, track_running_stats=True)\n",
            "        (relu2): ReLU(inplace=True)\n",
            "        (conv2): Conv2d(128, 32, kernel_size=(3, 3), stride=(1, 1), padding=(1, 1), bias=False)\n",
            "      )\n",
            "    )\n",
            "    (transition2): _Transition(\n",
            "      (norm): BatchNorm2d(512, eps=1e-05, momentum=0.1, affine=True, track_running_stats=True)\n",
            "      (relu): ReLU(inplace=True)\n",
            "      (conv): Conv2d(512, 256, kernel_size=(1, 1), stride=(1, 1), bias=False)\n",
            "      (pool): AvgPool2d(kernel_size=2, stride=2, padding=0)\n",
            "    )\n",
            "    (denseblock3): _DenseBlock(\n",
            "      (denselayer1): _DenseLayer(\n",
            "        (norm1): BatchNorm2d(256, eps=1e-05, momentum=0.1, affine=True, track_running_stats=True)\n",
            "        (relu1): ReLU(inplace=True)\n",
            "        (conv1): Conv2d(256, 128, kernel_size=(1, 1), stride=(1, 1), bias=False)\n",
            "        (norm2): BatchNorm2d(128, eps=1e-05, momentum=0.1, affine=True, track_running_stats=True)\n",
            "        (relu2): ReLU(inplace=True)\n",
            "        (conv2): Conv2d(128, 32, kernel_size=(3, 3), stride=(1, 1), padding=(1, 1), bias=False)\n",
            "      )\n",
            "      (denselayer2): _DenseLayer(\n",
            "        (norm1): BatchNorm2d(288, eps=1e-05, momentum=0.1, affine=True, track_running_stats=True)\n",
            "        (relu1): ReLU(inplace=True)\n",
            "        (conv1): Conv2d(288, 128, kernel_size=(1, 1), stride=(1, 1), bias=False)\n",
            "        (norm2): BatchNorm2d(128, eps=1e-05, momentum=0.1, affine=True, track_running_stats=True)\n",
            "        (relu2): ReLU(inplace=True)\n",
            "        (conv2): Conv2d(128, 32, kernel_size=(3, 3), stride=(1, 1), padding=(1, 1), bias=False)\n",
            "      )\n",
            "      (denselayer3): _DenseLayer(\n",
            "        (norm1): BatchNorm2d(320, eps=1e-05, momentum=0.1, affine=True, track_running_stats=True)\n",
            "        (relu1): ReLU(inplace=True)\n",
            "        (conv1): Conv2d(320, 128, kernel_size=(1, 1), stride=(1, 1), bias=False)\n",
            "        (norm2): BatchNorm2d(128, eps=1e-05, momentum=0.1, affine=True, track_running_stats=True)\n",
            "        (relu2): ReLU(inplace=True)\n",
            "        (conv2): Conv2d(128, 32, kernel_size=(3, 3), stride=(1, 1), padding=(1, 1), bias=False)\n",
            "      )\n",
            "      (denselayer4): _DenseLayer(\n",
            "        (norm1): BatchNorm2d(352, eps=1e-05, momentum=0.1, affine=True, track_running_stats=True)\n",
            "        (relu1): ReLU(inplace=True)\n",
            "        (conv1): Conv2d(352, 128, kernel_size=(1, 1), stride=(1, 1), bias=False)\n",
            "        (norm2): BatchNorm2d(128, eps=1e-05, momentum=0.1, affine=True, track_running_stats=True)\n",
            "        (relu2): ReLU(inplace=True)\n",
            "        (conv2): Conv2d(128, 32, kernel_size=(3, 3), stride=(1, 1), padding=(1, 1), bias=False)\n",
            "      )\n",
            "      (denselayer5): _DenseLayer(\n",
            "        (norm1): BatchNorm2d(384, eps=1e-05, momentum=0.1, affine=True, track_running_stats=True)\n",
            "        (relu1): ReLU(inplace=True)\n",
            "        (conv1): Conv2d(384, 128, kernel_size=(1, 1), stride=(1, 1), bias=False)\n",
            "        (norm2): BatchNorm2d(128, eps=1e-05, momentum=0.1, affine=True, track_running_stats=True)\n",
            "        (relu2): ReLU(inplace=True)\n",
            "        (conv2): Conv2d(128, 32, kernel_size=(3, 3), stride=(1, 1), padding=(1, 1), bias=False)\n",
            "      )\n",
            "      (denselayer6): _DenseLayer(\n",
            "        (norm1): BatchNorm2d(416, eps=1e-05, momentum=0.1, affine=True, track_running_stats=True)\n",
            "        (relu1): ReLU(inplace=True)\n",
            "        (conv1): Conv2d(416, 128, kernel_size=(1, 1), stride=(1, 1), bias=False)\n",
            "        (norm2): BatchNorm2d(128, eps=1e-05, momentum=0.1, affine=True, track_running_stats=True)\n",
            "        (relu2): ReLU(inplace=True)\n",
            "        (conv2): Conv2d(128, 32, kernel_size=(3, 3), stride=(1, 1), padding=(1, 1), bias=False)\n",
            "      )\n",
            "      (denselayer7): _DenseLayer(\n",
            "        (norm1): BatchNorm2d(448, eps=1e-05, momentum=0.1, affine=True, track_running_stats=True)\n",
            "        (relu1): ReLU(inplace=True)\n",
            "        (conv1): Conv2d(448, 128, kernel_size=(1, 1), stride=(1, 1), bias=False)\n",
            "        (norm2): BatchNorm2d(128, eps=1e-05, momentum=0.1, affine=True, track_running_stats=True)\n",
            "        (relu2): ReLU(inplace=True)\n",
            "        (conv2): Conv2d(128, 32, kernel_size=(3, 3), stride=(1, 1), padding=(1, 1), bias=False)\n",
            "      )\n",
            "      (denselayer8): _DenseLayer(\n",
            "        (norm1): BatchNorm2d(480, eps=1e-05, momentum=0.1, affine=True, track_running_stats=True)\n",
            "        (relu1): ReLU(inplace=True)\n",
            "        (conv1): Conv2d(480, 128, kernel_size=(1, 1), stride=(1, 1), bias=False)\n",
            "        (norm2): BatchNorm2d(128, eps=1e-05, momentum=0.1, affine=True, track_running_stats=True)\n",
            "        (relu2): ReLU(inplace=True)\n",
            "        (conv2): Conv2d(128, 32, kernel_size=(3, 3), stride=(1, 1), padding=(1, 1), bias=False)\n",
            "      )\n",
            "      (denselayer9): _DenseLayer(\n",
            "        (norm1): BatchNorm2d(512, eps=1e-05, momentum=0.1, affine=True, track_running_stats=True)\n",
            "        (relu1): ReLU(inplace=True)\n",
            "        (conv1): Conv2d(512, 128, kernel_size=(1, 1), stride=(1, 1), bias=False)\n",
            "        (norm2): BatchNorm2d(128, eps=1e-05, momentum=0.1, affine=True, track_running_stats=True)\n",
            "        (relu2): ReLU(inplace=True)\n",
            "        (conv2): Conv2d(128, 32, kernel_size=(3, 3), stride=(1, 1), padding=(1, 1), bias=False)\n",
            "      )\n",
            "      (denselayer10): _DenseLayer(\n",
            "        (norm1): BatchNorm2d(544, eps=1e-05, momentum=0.1, affine=True, track_running_stats=True)\n",
            "        (relu1): ReLU(inplace=True)\n",
            "        (conv1): Conv2d(544, 128, kernel_size=(1, 1), stride=(1, 1), bias=False)\n",
            "        (norm2): BatchNorm2d(128, eps=1e-05, momentum=0.1, affine=True, track_running_stats=True)\n",
            "        (relu2): ReLU(inplace=True)\n",
            "        (conv2): Conv2d(128, 32, kernel_size=(3, 3), stride=(1, 1), padding=(1, 1), bias=False)\n",
            "      )\n",
            "      (denselayer11): _DenseLayer(\n",
            "        (norm1): BatchNorm2d(576, eps=1e-05, momentum=0.1, affine=True, track_running_stats=True)\n",
            "        (relu1): ReLU(inplace=True)\n",
            "        (conv1): Conv2d(576, 128, kernel_size=(1, 1), stride=(1, 1), bias=False)\n",
            "        (norm2): BatchNorm2d(128, eps=1e-05, momentum=0.1, affine=True, track_running_stats=True)\n",
            "        (relu2): ReLU(inplace=True)\n",
            "        (conv2): Conv2d(128, 32, kernel_size=(3, 3), stride=(1, 1), padding=(1, 1), bias=False)\n",
            "      )\n",
            "      (denselayer12): _DenseLayer(\n",
            "        (norm1): BatchNorm2d(608, eps=1e-05, momentum=0.1, affine=True, track_running_stats=True)\n",
            "        (relu1): ReLU(inplace=True)\n",
            "        (conv1): Conv2d(608, 128, kernel_size=(1, 1), stride=(1, 1), bias=False)\n",
            "        (norm2): BatchNorm2d(128, eps=1e-05, momentum=0.1, affine=True, track_running_stats=True)\n",
            "        (relu2): ReLU(inplace=True)\n",
            "        (conv2): Conv2d(128, 32, kernel_size=(3, 3), stride=(1, 1), padding=(1, 1), bias=False)\n",
            "      )\n",
            "      (denselayer13): _DenseLayer(\n",
            "        (norm1): BatchNorm2d(640, eps=1e-05, momentum=0.1, affine=True, track_running_stats=True)\n",
            "        (relu1): ReLU(inplace=True)\n",
            "        (conv1): Conv2d(640, 128, kernel_size=(1, 1), stride=(1, 1), bias=False)\n",
            "        (norm2): BatchNorm2d(128, eps=1e-05, momentum=0.1, affine=True, track_running_stats=True)\n",
            "        (relu2): ReLU(inplace=True)\n",
            "        (conv2): Conv2d(128, 32, kernel_size=(3, 3), stride=(1, 1), padding=(1, 1), bias=False)\n",
            "      )\n",
            "      (denselayer14): _DenseLayer(\n",
            "        (norm1): BatchNorm2d(672, eps=1e-05, momentum=0.1, affine=True, track_running_stats=True)\n",
            "        (relu1): ReLU(inplace=True)\n",
            "        (conv1): Conv2d(672, 128, kernel_size=(1, 1), stride=(1, 1), bias=False)\n",
            "        (norm2): BatchNorm2d(128, eps=1e-05, momentum=0.1, affine=True, track_running_stats=True)\n",
            "        (relu2): ReLU(inplace=True)\n",
            "        (conv2): Conv2d(128, 32, kernel_size=(3, 3), stride=(1, 1), padding=(1, 1), bias=False)\n",
            "      )\n",
            "      (denselayer15): _DenseLayer(\n",
            "        (norm1): BatchNorm2d(704, eps=1e-05, momentum=0.1, affine=True, track_running_stats=True)\n",
            "        (relu1): ReLU(inplace=True)\n",
            "        (conv1): Conv2d(704, 128, kernel_size=(1, 1), stride=(1, 1), bias=False)\n",
            "        (norm2): BatchNorm2d(128, eps=1e-05, momentum=0.1, affine=True, track_running_stats=True)\n",
            "        (relu2): ReLU(inplace=True)\n",
            "        (conv2): Conv2d(128, 32, kernel_size=(3, 3), stride=(1, 1), padding=(1, 1), bias=False)\n",
            "      )\n",
            "      (denselayer16): _DenseLayer(\n",
            "        (norm1): BatchNorm2d(736, eps=1e-05, momentum=0.1, affine=True, track_running_stats=True)\n",
            "        (relu1): ReLU(inplace=True)\n",
            "        (conv1): Conv2d(736, 128, kernel_size=(1, 1), stride=(1, 1), bias=False)\n",
            "        (norm2): BatchNorm2d(128, eps=1e-05, momentum=0.1, affine=True, track_running_stats=True)\n",
            "        (relu2): ReLU(inplace=True)\n",
            "        (conv2): Conv2d(128, 32, kernel_size=(3, 3), stride=(1, 1), padding=(1, 1), bias=False)\n",
            "      )\n",
            "      (denselayer17): _DenseLayer(\n",
            "        (norm1): BatchNorm2d(768, eps=1e-05, momentum=0.1, affine=True, track_running_stats=True)\n",
            "        (relu1): ReLU(inplace=True)\n",
            "        (conv1): Conv2d(768, 128, kernel_size=(1, 1), stride=(1, 1), bias=False)\n",
            "        (norm2): BatchNorm2d(128, eps=1e-05, momentum=0.1, affine=True, track_running_stats=True)\n",
            "        (relu2): ReLU(inplace=True)\n",
            "        (conv2): Conv2d(128, 32, kernel_size=(3, 3), stride=(1, 1), padding=(1, 1), bias=False)\n",
            "      )\n",
            "      (denselayer18): _DenseLayer(\n",
            "        (norm1): BatchNorm2d(800, eps=1e-05, momentum=0.1, affine=True, track_running_stats=True)\n",
            "        (relu1): ReLU(inplace=True)\n",
            "        (conv1): Conv2d(800, 128, kernel_size=(1, 1), stride=(1, 1), bias=False)\n",
            "        (norm2): BatchNorm2d(128, eps=1e-05, momentum=0.1, affine=True, track_running_stats=True)\n",
            "        (relu2): ReLU(inplace=True)\n",
            "        (conv2): Conv2d(128, 32, kernel_size=(3, 3), stride=(1, 1), padding=(1, 1), bias=False)\n",
            "      )\n",
            "      (denselayer19): _DenseLayer(\n",
            "        (norm1): BatchNorm2d(832, eps=1e-05, momentum=0.1, affine=True, track_running_stats=True)\n",
            "        (relu1): ReLU(inplace=True)\n",
            "        (conv1): Conv2d(832, 128, kernel_size=(1, 1), stride=(1, 1), bias=False)\n",
            "        (norm2): BatchNorm2d(128, eps=1e-05, momentum=0.1, affine=True, track_running_stats=True)\n",
            "        (relu2): ReLU(inplace=True)\n",
            "        (conv2): Conv2d(128, 32, kernel_size=(3, 3), stride=(1, 1), padding=(1, 1), bias=False)\n",
            "      )\n",
            "      (denselayer20): _DenseLayer(\n",
            "        (norm1): BatchNorm2d(864, eps=1e-05, momentum=0.1, affine=True, track_running_stats=True)\n",
            "        (relu1): ReLU(inplace=True)\n",
            "        (conv1): Conv2d(864, 128, kernel_size=(1, 1), stride=(1, 1), bias=False)\n",
            "        (norm2): BatchNorm2d(128, eps=1e-05, momentum=0.1, affine=True, track_running_stats=True)\n",
            "        (relu2): ReLU(inplace=True)\n",
            "        (conv2): Conv2d(128, 32, kernel_size=(3, 3), stride=(1, 1), padding=(1, 1), bias=False)\n",
            "      )\n",
            "      (denselayer21): _DenseLayer(\n",
            "        (norm1): BatchNorm2d(896, eps=1e-05, momentum=0.1, affine=True, track_running_stats=True)\n",
            "        (relu1): ReLU(inplace=True)\n",
            "        (conv1): Conv2d(896, 128, kernel_size=(1, 1), stride=(1, 1), bias=False)\n",
            "        (norm2): BatchNorm2d(128, eps=1e-05, momentum=0.1, affine=True, track_running_stats=True)\n",
            "        (relu2): ReLU(inplace=True)\n",
            "        (conv2): Conv2d(128, 32, kernel_size=(3, 3), stride=(1, 1), padding=(1, 1), bias=False)\n",
            "      )\n",
            "      (denselayer22): _DenseLayer(\n",
            "        (norm1): BatchNorm2d(928, eps=1e-05, momentum=0.1, affine=True, track_running_stats=True)\n",
            "        (relu1): ReLU(inplace=True)\n",
            "        (conv1): Conv2d(928, 128, kernel_size=(1, 1), stride=(1, 1), bias=False)\n",
            "        (norm2): BatchNorm2d(128, eps=1e-05, momentum=0.1, affine=True, track_running_stats=True)\n",
            "        (relu2): ReLU(inplace=True)\n",
            "        (conv2): Conv2d(128, 32, kernel_size=(3, 3), stride=(1, 1), padding=(1, 1), bias=False)\n",
            "      )\n",
            "      (denselayer23): _DenseLayer(\n",
            "        (norm1): BatchNorm2d(960, eps=1e-05, momentum=0.1, affine=True, track_running_stats=True)\n",
            "        (relu1): ReLU(inplace=True)\n",
            "        (conv1): Conv2d(960, 128, kernel_size=(1, 1), stride=(1, 1), bias=False)\n",
            "        (norm2): BatchNorm2d(128, eps=1e-05, momentum=0.1, affine=True, track_running_stats=True)\n",
            "        (relu2): ReLU(inplace=True)\n",
            "        (conv2): Conv2d(128, 32, kernel_size=(3, 3), stride=(1, 1), padding=(1, 1), bias=False)\n",
            "      )\n",
            "      (denselayer24): _DenseLayer(\n",
            "        (norm1): BatchNorm2d(992, eps=1e-05, momentum=0.1, affine=True, track_running_stats=True)\n",
            "        (relu1): ReLU(inplace=True)\n",
            "        (conv1): Conv2d(992, 128, kernel_size=(1, 1), stride=(1, 1), bias=False)\n",
            "        (norm2): BatchNorm2d(128, eps=1e-05, momentum=0.1, affine=True, track_running_stats=True)\n",
            "        (relu2): ReLU(inplace=True)\n",
            "        (conv2): Conv2d(128, 32, kernel_size=(3, 3), stride=(1, 1), padding=(1, 1), bias=False)\n",
            "      )\n",
            "    )\n",
            "    (transition3): _Transition(\n",
            "      (norm): BatchNorm2d(1024, eps=1e-05, momentum=0.1, affine=True, track_running_stats=True)\n",
            "      (relu): ReLU(inplace=True)\n",
            "      (conv): Conv2d(1024, 512, kernel_size=(1, 1), stride=(1, 1), bias=False)\n",
            "      (pool): AvgPool2d(kernel_size=2, stride=2, padding=0)\n",
            "    )\n",
            "    (denseblock4): _DenseBlock(\n",
            "      (denselayer1): _DenseLayer(\n",
            "        (norm1): BatchNorm2d(512, eps=1e-05, momentum=0.1, affine=True, track_running_stats=True)\n",
            "        (relu1): ReLU(inplace=True)\n",
            "        (conv1): Conv2d(512, 128, kernel_size=(1, 1), stride=(1, 1), bias=False)\n",
            "        (norm2): BatchNorm2d(128, eps=1e-05, momentum=0.1, affine=True, track_running_stats=True)\n",
            "        (relu2): ReLU(inplace=True)\n",
            "        (conv2): Conv2d(128, 32, kernel_size=(3, 3), stride=(1, 1), padding=(1, 1), bias=False)\n",
            "      )\n",
            "      (denselayer2): _DenseLayer(\n",
            "        (norm1): BatchNorm2d(544, eps=1e-05, momentum=0.1, affine=True, track_running_stats=True)\n",
            "        (relu1): ReLU(inplace=True)\n",
            "        (conv1): Conv2d(544, 128, kernel_size=(1, 1), stride=(1, 1), bias=False)\n",
            "        (norm2): BatchNorm2d(128, eps=1e-05, momentum=0.1, affine=True, track_running_stats=True)\n",
            "        (relu2): ReLU(inplace=True)\n",
            "        (conv2): Conv2d(128, 32, kernel_size=(3, 3), stride=(1, 1), padding=(1, 1), bias=False)\n",
            "      )\n",
            "      (denselayer3): _DenseLayer(\n",
            "        (norm1): BatchNorm2d(576, eps=1e-05, momentum=0.1, affine=True, track_running_stats=True)\n",
            "        (relu1): ReLU(inplace=True)\n",
            "        (conv1): Conv2d(576, 128, kernel_size=(1, 1), stride=(1, 1), bias=False)\n",
            "        (norm2): BatchNorm2d(128, eps=1e-05, momentum=0.1, affine=True, track_running_stats=True)\n",
            "        (relu2): ReLU(inplace=True)\n",
            "        (conv2): Conv2d(128, 32, kernel_size=(3, 3), stride=(1, 1), padding=(1, 1), bias=False)\n",
            "      )\n",
            "      (denselayer4): _DenseLayer(\n",
            "        (norm1): BatchNorm2d(608, eps=1e-05, momentum=0.1, affine=True, track_running_stats=True)\n",
            "        (relu1): ReLU(inplace=True)\n",
            "        (conv1): Conv2d(608, 128, kernel_size=(1, 1), stride=(1, 1), bias=False)\n",
            "        (norm2): BatchNorm2d(128, eps=1e-05, momentum=0.1, affine=True, track_running_stats=True)\n",
            "        (relu2): ReLU(inplace=True)\n",
            "        (conv2): Conv2d(128, 32, kernel_size=(3, 3), stride=(1, 1), padding=(1, 1), bias=False)\n",
            "      )\n",
            "      (denselayer5): _DenseLayer(\n",
            "        (norm1): BatchNorm2d(640, eps=1e-05, momentum=0.1, affine=True, track_running_stats=True)\n",
            "        (relu1): ReLU(inplace=True)\n",
            "        (conv1): Conv2d(640, 128, kernel_size=(1, 1), stride=(1, 1), bias=False)\n",
            "        (norm2): BatchNorm2d(128, eps=1e-05, momentum=0.1, affine=True, track_running_stats=True)\n",
            "        (relu2): ReLU(inplace=True)\n",
            "        (conv2): Conv2d(128, 32, kernel_size=(3, 3), stride=(1, 1), padding=(1, 1), bias=False)\n",
            "      )\n",
            "      (denselayer6): _DenseLayer(\n",
            "        (norm1): BatchNorm2d(672, eps=1e-05, momentum=0.1, affine=True, track_running_stats=True)\n",
            "        (relu1): ReLU(inplace=True)\n",
            "        (conv1): Conv2d(672, 128, kernel_size=(1, 1), stride=(1, 1), bias=False)\n",
            "        (norm2): BatchNorm2d(128, eps=1e-05, momentum=0.1, affine=True, track_running_stats=True)\n",
            "        (relu2): ReLU(inplace=True)\n",
            "        (conv2): Conv2d(128, 32, kernel_size=(3, 3), stride=(1, 1), padding=(1, 1), bias=False)\n",
            "      )\n",
            "      (denselayer7): _DenseLayer(\n",
            "        (norm1): BatchNorm2d(704, eps=1e-05, momentum=0.1, affine=True, track_running_stats=True)\n",
            "        (relu1): ReLU(inplace=True)\n",
            "        (conv1): Conv2d(704, 128, kernel_size=(1, 1), stride=(1, 1), bias=False)\n",
            "        (norm2): BatchNorm2d(128, eps=1e-05, momentum=0.1, affine=True, track_running_stats=True)\n",
            "        (relu2): ReLU(inplace=True)\n",
            "        (conv2): Conv2d(128, 32, kernel_size=(3, 3), stride=(1, 1), padding=(1, 1), bias=False)\n",
            "      )\n",
            "      (denselayer8): _DenseLayer(\n",
            "        (norm1): BatchNorm2d(736, eps=1e-05, momentum=0.1, affine=True, track_running_stats=True)\n",
            "        (relu1): ReLU(inplace=True)\n",
            "        (conv1): Conv2d(736, 128, kernel_size=(1, 1), stride=(1, 1), bias=False)\n",
            "        (norm2): BatchNorm2d(128, eps=1e-05, momentum=0.1, affine=True, track_running_stats=True)\n",
            "        (relu2): ReLU(inplace=True)\n",
            "        (conv2): Conv2d(128, 32, kernel_size=(3, 3), stride=(1, 1), padding=(1, 1), bias=False)\n",
            "      )\n",
            "      (denselayer9): _DenseLayer(\n",
            "        (norm1): BatchNorm2d(768, eps=1e-05, momentum=0.1, affine=True, track_running_stats=True)\n",
            "        (relu1): ReLU(inplace=True)\n",
            "        (conv1): Conv2d(768, 128, kernel_size=(1, 1), stride=(1, 1), bias=False)\n",
            "        (norm2): BatchNorm2d(128, eps=1e-05, momentum=0.1, affine=True, track_running_stats=True)\n",
            "        (relu2): ReLU(inplace=True)\n",
            "        (conv2): Conv2d(128, 32, kernel_size=(3, 3), stride=(1, 1), padding=(1, 1), bias=False)\n",
            "      )\n",
            "      (denselayer10): _DenseLayer(\n",
            "        (norm1): BatchNorm2d(800, eps=1e-05, momentum=0.1, affine=True, track_running_stats=True)\n",
            "        (relu1): ReLU(inplace=True)\n",
            "        (conv1): Conv2d(800, 128, kernel_size=(1, 1), stride=(1, 1), bias=False)\n",
            "        (norm2): BatchNorm2d(128, eps=1e-05, momentum=0.1, affine=True, track_running_stats=True)\n",
            "        (relu2): ReLU(inplace=True)\n",
            "        (conv2): Conv2d(128, 32, kernel_size=(3, 3), stride=(1, 1), padding=(1, 1), bias=False)\n",
            "      )\n",
            "      (denselayer11): _DenseLayer(\n",
            "        (norm1): BatchNorm2d(832, eps=1e-05, momentum=0.1, affine=True, track_running_stats=True)\n",
            "        (relu1): ReLU(inplace=True)\n",
            "        (conv1): Conv2d(832, 128, kernel_size=(1, 1), stride=(1, 1), bias=False)\n",
            "        (norm2): BatchNorm2d(128, eps=1e-05, momentum=0.1, affine=True, track_running_stats=True)\n",
            "        (relu2): ReLU(inplace=True)\n",
            "        (conv2): Conv2d(128, 32, kernel_size=(3, 3), stride=(1, 1), padding=(1, 1), bias=False)\n",
            "      )\n",
            "      (denselayer12): _DenseLayer(\n",
            "        (norm1): BatchNorm2d(864, eps=1e-05, momentum=0.1, affine=True, track_running_stats=True)\n",
            "        (relu1): ReLU(inplace=True)\n",
            "        (conv1): Conv2d(864, 128, kernel_size=(1, 1), stride=(1, 1), bias=False)\n",
            "        (norm2): BatchNorm2d(128, eps=1e-05, momentum=0.1, affine=True, track_running_stats=True)\n",
            "        (relu2): ReLU(inplace=True)\n",
            "        (conv2): Conv2d(128, 32, kernel_size=(3, 3), stride=(1, 1), padding=(1, 1), bias=False)\n",
            "      )\n",
            "      (denselayer13): _DenseLayer(\n",
            "        (norm1): BatchNorm2d(896, eps=1e-05, momentum=0.1, affine=True, track_running_stats=True)\n",
            "        (relu1): ReLU(inplace=True)\n",
            "        (conv1): Conv2d(896, 128, kernel_size=(1, 1), stride=(1, 1), bias=False)\n",
            "        (norm2): BatchNorm2d(128, eps=1e-05, momentum=0.1, affine=True, track_running_stats=True)\n",
            "        (relu2): ReLU(inplace=True)\n",
            "        (conv2): Conv2d(128, 32, kernel_size=(3, 3), stride=(1, 1), padding=(1, 1), bias=False)\n",
            "      )\n",
            "      (denselayer14): _DenseLayer(\n",
            "        (norm1): BatchNorm2d(928, eps=1e-05, momentum=0.1, affine=True, track_running_stats=True)\n",
            "        (relu1): ReLU(inplace=True)\n",
            "        (conv1): Conv2d(928, 128, kernel_size=(1, 1), stride=(1, 1), bias=False)\n",
            "        (norm2): BatchNorm2d(128, eps=1e-05, momentum=0.1, affine=True, track_running_stats=True)\n",
            "        (relu2): ReLU(inplace=True)\n",
            "        (conv2): Conv2d(128, 32, kernel_size=(3, 3), stride=(1, 1), padding=(1, 1), bias=False)\n",
            "      )\n",
            "      (denselayer15): _DenseLayer(\n",
            "        (norm1): BatchNorm2d(960, eps=1e-05, momentum=0.1, affine=True, track_running_stats=True)\n",
            "        (relu1): ReLU(inplace=True)\n",
            "        (conv1): Conv2d(960, 128, kernel_size=(1, 1), stride=(1, 1), bias=False)\n",
            "        (norm2): BatchNorm2d(128, eps=1e-05, momentum=0.1, affine=True, track_running_stats=True)\n",
            "        (relu2): ReLU(inplace=True)\n",
            "        (conv2): Conv2d(128, 32, kernel_size=(3, 3), stride=(1, 1), padding=(1, 1), bias=False)\n",
            "      )\n",
            "      (denselayer16): _DenseLayer(\n",
            "        (norm1): BatchNorm2d(992, eps=1e-05, momentum=0.1, affine=True, track_running_stats=True)\n",
            "        (relu1): ReLU(inplace=True)\n",
            "        (conv1): Conv2d(992, 128, kernel_size=(1, 1), stride=(1, 1), bias=False)\n",
            "        (norm2): BatchNorm2d(128, eps=1e-05, momentum=0.1, affine=True, track_running_stats=True)\n",
            "        (relu2): ReLU(inplace=True)\n",
            "        (conv2): Conv2d(128, 32, kernel_size=(3, 3), stride=(1, 1), padding=(1, 1), bias=False)\n",
            "      )\n",
            "    )\n",
            "    (norm5): BatchNorm2d(1024, eps=1e-05, momentum=0.1, affine=True, track_running_stats=True)\n",
            "  )\n",
            "  (classifier): Linear(in_features=1024, out_features=1000, bias=True)\n",
            "  (fc): Linear(in_features=1024, out_features=7, bias=True)\n",
            ")\n"
          ]
        }
      ],
      "source": [
        "print(modelo)"
      ]
    },
    {
      "cell_type": "markdown",
      "metadata": {
        "id": "ue3_B7py-QAz"
      },
      "source": [
        "## Treinamento do Modelo\n",
        "\n",
        "Vamos executar as etapas necesárias para treinar o modelo."
      ]
    },
    {
      "cell_type": "markdown",
      "metadata": {
        "id": "7xPqBvwp-QA0"
      },
      "source": [
        "### Funções Para o Loop de Treino e Validação"
      ]
    },
    {
      "cell_type": "code",
      "execution_count": null,
      "metadata": {
        "id": "N2lLw3uS-QA0"
      },
      "outputs": [],
      "source": [
        "# Função para calcular erro em treino e validação durante o treinamento\n",
        "class DSACalculaMetricas(object):\n",
        "\n",
        "    def __init__(self):\n",
        "        self.reset()\n",
        "\n",
        "    def reset(self):\n",
        "        self.val = 0\n",
        "        self.avg = 0\n",
        "        self.sum = 0\n",
        "        self.count = 0\n",
        "\n",
        "    def update(self, val, n = 1):\n",
        "        self.val = val\n",
        "        self.sum += val * n\n",
        "        self.count += n\n",
        "        self.avg = self.sum / self.count"
      ]
    },
    {
      "cell_type": "code",
      "execution_count": null,
      "metadata": {
        "id": "kRWQ4KLL-QA1"
      },
      "outputs": [],
      "source": [
        "# Listas para erro e acurácia em treino\n",
        "total_loss_train, total_acc_train = [],[]"
      ]
    },
    {
      "cell_type": "code",
      "execution_count": null,
      "metadata": {
        "id": "TgTMAi8d-QA1"
      },
      "outputs": [],
      "source": [
        "# Função de treino do modelo\n",
        "def dsa_treina_modelo(treino_loader, model, criterion, optimizer, epoch):\n",
        "\n",
        "    # Coloca o modelo em modo de treino\n",
        "    model.train()\n",
        "\n",
        "    # Inicializa objetos de cálculo de métricas\n",
        "    train_loss = DSACalculaMetricas()\n",
        "    train_acc = DSACalculaMetricas()\n",
        "\n",
        "    # Iteração\n",
        "    curr_iter = (epoch - 1) * len(treino_loader)\n",
        "\n",
        "    # Loop de treino\n",
        "    for i, data in enumerate(treino_loader):\n",
        "\n",
        "        # Extra os dados\n",
        "        images, labels = data\n",
        "\n",
        "        # Tamanho da imagem\n",
        "        N = images.size(0)\n",
        "\n",
        "        # Coloca imagens e labels no device\n",
        "        images = Variable(images).to(device)\n",
        "        labels = Variable(labels).to(device)\n",
        "\n",
        "        # Zera os gradientes\n",
        "        optimizer.zero_grad()\n",
        "\n",
        "        # Previsão do modelo\n",
        "        outputs = model(images)\n",
        "\n",
        "        # Erro do modelo\n",
        "        loss = criterion(outputs, labels)\n",
        "\n",
        "        # Backpropagation\n",
        "        loss.backward()\n",
        "        optimizer.step()\n",
        "\n",
        "        # Obtem a previsão de maior probabilidade\n",
        "        prediction = outputs.max(1, keepdim = True)[1]\n",
        "\n",
        "        # Atualiza as métricas\n",
        "        train_acc.update(prediction.eq(labels.view_as(prediction)).sum().item()/N)\n",
        "        train_loss.update(loss.item())\n",
        "\n",
        "        # Iteração\n",
        "        curr_iter += 1\n",
        "\n",
        "        # Print e update das métricas\n",
        "        if (i + 1) % 100 == 0 and curr_iter < 1000:\n",
        "            print('[epoch %d], [iter %d / %d], [train loss %.5f], [train acc %.5f]' % (epoch,\n",
        "                                                                                       i + 1,\n",
        "                                                                                       len(treino_loader),\n",
        "                                                                                       train_loss.avg,\n",
        "                                                                                       train_acc.avg))\n",
        "            total_loss_train.append(train_loss.avg)\n",
        "            total_acc_train.append(train_acc.avg)\n",
        "\n",
        "    # Salva o modelo em disco\n",
        "    torch.save(model, 'modelos/modelo_dsa.pth')\n",
        "\n",
        "    return train_loss.avg, train_acc.avg"
      ]
    },
    {
      "cell_type": "code",
      "execution_count": null,
      "metadata": {
        "id": "l_bok2cL-QA1"
      },
      "outputs": [],
      "source": [
        "# Listas para erro e acurácia em validação\n",
        "total_loss_val, total_acc_val = [],[]"
      ]
    },
    {
      "cell_type": "code",
      "execution_count": null,
      "metadata": {
        "id": "041bhUIF-QA2"
      },
      "outputs": [],
      "source": [
        "# Função para validação\n",
        "def dsa_valida_modelo(val_loader, model, criterion, optimizer, epoch):\n",
        "\n",
        "    # Coloca o modelo em modo de validação\n",
        "    model.eval()\n",
        "\n",
        "    # Inicializa objetos de cálculo de métricas\n",
        "    val_loss = DSACalculaMetricas()\n",
        "    val_acc = DSACalculaMetricas()\n",
        "\n",
        "    # Validação\n",
        "    with torch.no_grad():\n",
        "\n",
        "        for i, data in enumerate(val_loader):\n",
        "\n",
        "            images, labels = data\n",
        "\n",
        "            N = images.size(0)\n",
        "\n",
        "            images = Variable(images).to(device)\n",
        "\n",
        "            labels = Variable(labels).to(device)\n",
        "\n",
        "            outputs = model(images)\n",
        "\n",
        "            prediction = outputs.max(1, keepdim = True)[1]\n",
        "\n",
        "            val_acc.update(prediction.eq(labels.view_as(prediction)).sum().item()/N)\n",
        "\n",
        "            val_loss.update(criterion(outputs, labels).item())\n",
        "\n",
        "    print('------------------------------------------------------------')\n",
        "    print('[epoch %d], [val loss %.5f], [val acc %.5f]' % (epoch, val_loss.avg, val_acc.avg))\n",
        "    print('------------------------------------------------------------')\n",
        "\n",
        "    return val_loss.avg, val_acc.avg"
      ]
    },
    {
      "cell_type": "markdown",
      "metadata": {
        "id": "cTRq6OzB-QA2"
      },
      "source": [
        "### Treinamento do Modelo"
      ]
    },
    {
      "cell_type": "code",
      "execution_count": null,
      "metadata": {
        "id": "u5pdZ5Rx-QA3"
      },
      "outputs": [],
      "source": [
        "# Hiperparâmetros\n",
        "epoch_num = 10\n",
        "best_val_acc = 0"
      ]
    },
    {
      "cell_type": "code",
      "execution_count": null,
      "metadata": {
        "id": "Q1N4ICnJ-QA3",
        "outputId": "ae450b6c-9393-444a-dc08-76c4748b4ee0"
      },
      "outputs": [
        {
          "name": "stdout",
          "output_type": "stream",
          "text": [
            "[epoch 1], [iter 100 / 990], [train loss 1.61729], [train acc 0.48094]\n",
            "[epoch 1], [iter 200 / 990], [train loss 1.35254], [train acc 0.53641]\n",
            "[epoch 1], [iter 300 / 990], [train loss 1.22839], [train acc 0.56594]\n",
            "[epoch 1], [iter 400 / 990], [train loss 1.15074], [train acc 0.58805]\n",
            "[epoch 1], [iter 500 / 990], [train loss 1.09162], [train acc 0.60869]\n",
            "[epoch 1], [iter 600 / 990], [train loss 1.04663], [train acc 0.62255]\n",
            "[epoch 1], [iter 700 / 990], [train loss 1.00884], [train acc 0.63379]\n",
            "[epoch 1], [iter 800 / 990], [train loss 0.97749], [train acc 0.64406]\n",
            "[epoch 1], [iter 900 / 990], [train loss 0.95058], [train acc 0.65292]\n",
            "------------------------------------------------------------\n",
            "[epoch 1], [val loss 1.63702], [val acc 0.68204]\n",
            "------------------------------------------------------------\n",
            "*****************************************************\n",
            "Melhor Resultado: [epoch 1], [val loss 1.63702], [val acc 0.68204]\n",
            "*****************************************************\n",
            "------------------------------------------------------------\n",
            "[epoch 2], [val loss 0.34268], [val acc 0.88194]\n",
            "------------------------------------------------------------\n",
            "*****************************************************\n",
            "Melhor Resultado: [epoch 2], [val loss 0.34268], [val acc 0.88194]\n",
            "*****************************************************\n",
            "------------------------------------------------------------\n",
            "[epoch 3], [val loss 0.30438], [val acc 0.87922]\n",
            "------------------------------------------------------------\n",
            "------------------------------------------------------------\n",
            "[epoch 4], [val loss 0.46888], [val acc 0.82192]\n",
            "------------------------------------------------------------\n",
            "------------------------------------------------------------\n",
            "[epoch 5], [val loss 0.28962], [val acc 0.90352]\n",
            "------------------------------------------------------------\n",
            "*****************************************************\n",
            "Melhor Resultado: [epoch 5], [val loss 0.28962], [val acc 0.90352]\n",
            "*****************************************************\n",
            "------------------------------------------------------------\n",
            "[epoch 6], [val loss 0.39756], [val acc 0.85218]\n",
            "------------------------------------------------------------\n",
            "------------------------------------------------------------\n",
            "[epoch 7], [val loss 0.32139], [val acc 0.89137]\n",
            "------------------------------------------------------------\n",
            "------------------------------------------------------------\n",
            "[epoch 8], [val loss 0.34146], [val acc 0.90005]\n",
            "------------------------------------------------------------\n",
            "------------------------------------------------------------\n",
            "[epoch 9], [val loss 0.33816], [val acc 0.89137]\n",
            "------------------------------------------------------------\n",
            "------------------------------------------------------------\n",
            "[epoch 10], [val loss 0.30532], [val acc 0.91220]\n",
            "------------------------------------------------------------\n",
            "*****************************************************\n",
            "Melhor Resultado: [epoch 10], [val loss 0.30532], [val acc 0.91220]\n",
            "*****************************************************\n",
            "CPU times: user 23min 15s, sys: 2min 47s, total: 26min 2s\n",
            "Wall time: 26min 15s\n"
          ]
        }
      ],
      "source": [
        "%%time\n",
        "\n",
        "# Loop\n",
        "for epoch in range(1, epoch_num + 1):\n",
        "\n",
        "    # Execute o loop de treino\n",
        "    loss_train, acc_train = dsa_treina_modelo(loader_treino, modelo, criterion, optimizer, epoch)\n",
        "\n",
        "    # Executa o loop de validação\n",
        "    loss_val, acc_val = dsa_valida_modelo(loader_val, modelo, criterion, optimizer, epoch)\n",
        "\n",
        "    # Calcula as métricas\n",
        "    total_loss_val.append(loss_val)\n",
        "    total_acc_val.append(acc_val)\n",
        "\n",
        "    # Verifica a acurácia em validação\n",
        "    if acc_val > best_val_acc:\n",
        "\n",
        "        best_val_acc = acc_val\n",
        "\n",
        "        print('*****************************************************')\n",
        "        print('Melhor Resultado: [epoch %d], [val loss %.5f], [val acc %.5f]' % (epoch, loss_val, acc_val))\n",
        "        print('*****************************************************')"
      ]
    },
    {
      "cell_type": "markdown",
      "metadata": {
        "id": "Yn0GV7mr-QA3"
      },
      "source": [
        "## Avaliação do Modelo"
      ]
    },
    {
      "cell_type": "code",
      "execution_count": null,
      "metadata": {
        "id": "yjb8D1uc-QA4",
        "outputId": "114a8d18-9d7b-43c8-8d27-68d1e95c47c1"
      },
      "outputs": [
        {
          "data": {
            "image/png": "[encoded data removed]",
            "text/plain": [
              "<Figure size 640x480 with 2 Axes>"
            ]
          },
          "metadata": {},
          "output_type": "display_data"
        }
      ],
      "source": [
        "# Plot\n",
        "fig = plt.figure(num = 2)\n",
        "fig1 = fig.add_subplot(2,1,1)\n",
        "fig2 = fig.add_subplot(2,1,2)\n",
        "fig1.plot(total_loss_train, label = 'Erro em Treino')\n",
        "fig1.plot(total_acc_train, label = 'Acurácia em Treino')\n",
        "fig2.plot(total_loss_val, label = 'Erro em Validação')\n",
        "fig2.plot(total_acc_val, label = 'Acurácia em Validação')\n",
        "plt.legend()\n",
        "plt.show()"
      ]
    },
    {
      "cell_type": "code",
      "execution_count": null,
      "metadata": {
        "id": "dfuDqQRE-QA4"
      },
      "outputs": [],
      "source": [
        "# Carrega o modelo do disco\n",
        "modelo_final = torch.load('modelos/modelo_dsa.pth')"
      ]
    },
    {
      "cell_type": "markdown",
      "metadata": {
        "id": "PYqpsUe9-QA5"
      },
      "source": [
        "> Avaliação do modelo com dados de teste."
      ]
    },
    {
      "cell_type": "code",
      "execution_count": null,
      "metadata": {
        "id": "l0G-NreN-QA5"
      },
      "outputs": [],
      "source": [
        "# Coloca o modelo em modo de avaliação\n",
        "modelo_final.eval()\n",
        "\n",
        "# Inicializa uma lista para armazenar os rótulos verdadeiros\n",
        "y_label = []\n",
        "\n",
        "# Inicializa uma lista para armazenar as predições\n",
        "y_predict = []\n",
        "\n",
        "# Desabilita o cálculo de gradientes\n",
        "with torch.no_grad():\n",
        "\n",
        "    # Itera sobre o carregador de dados de teste\n",
        "    for i, data in enumerate(loader_teste):\n",
        "\n",
        "        # Extrai imagens e rótulos do lote de dados\n",
        "        images, labels = data\n",
        "\n",
        "        # Obtém o número de imagens no lote\n",
        "        N = images.size(0)\n",
        "\n",
        "        # Envia as imagens para o dispositivo apropriado (GPU ou CPU)\n",
        "        images = Variable(images).to(device)\n",
        "\n",
        "        # Calcula as saídas do modelo usando as imagens\n",
        "        outputs = modelo(images)\n",
        "\n",
        "        # Obtém as previsões do modelo\n",
        "        prediction = outputs.max(1, keepdim=True)[1]\n",
        "\n",
        "        # Adiciona os rótulos verdadeiros à lista\n",
        "        y_label.extend(labels.cpu().numpy())\n",
        "\n",
        "        # Adiciona as previsões à lista\n",
        "        y_predict.extend(np.squeeze(prediction.cpu().numpy().T))"
      ]
    },
    {
      "cell_type": "code",
      "execution_count": null,
      "metadata": {
        "id": "-LEYtVX6-QA5"
      },
      "outputs": [],
      "source": [
        "# Função de plot da confusion_matrix\n",
        "def dsa_plot_confusion_matrix(cm,\n",
        "                              classes,\n",
        "                              normalize = False,\n",
        "                              title = 'Confusion matrix',\n",
        "                              cmap = plt.cm.Blues):\n",
        "\n",
        "    plt.imshow(cm, interpolation = 'nearest', cmap = cmap)\n",
        "    plt.title(title)\n",
        "    plt.colorbar()\n",
        "    tick_marks = np.arange(len(classes))\n",
        "    plt.xticks(tick_marks, classes, rotation=45)\n",
        "    plt.yticks(tick_marks, classes)\n",
        "\n",
        "    if normalize:\n",
        "        cm = cm.astype('float') / cm.sum(axis=1)[:, np.newaxis]\n",
        "\n",
        "    thresh = cm.max() / 2.\n",
        "\n",
        "    for i, j in itertools.product(range(cm.shape[0]), range(cm.shape[1])):\n",
        "        plt.text(j, i, cm[i, j],\n",
        "                 horizontalalignment = \"center\",\n",
        "                 color = \"white\" if cm[i, j] > thresh else \"black\")\n",
        "\n",
        "    plt.tight_layout()\n",
        "    plt.ylabel('Label Real')\n",
        "    plt.xlabel('Label Previsto')"
      ]
    },
    {
      "cell_type": "code",
      "execution_count": null,
      "metadata": {
        "id": "0xif35IE-QA6"
      },
      "outputs": [],
      "source": [
        "# Cria a confusion matrix\n",
        "confusion_mtx = confusion_matrix(y_label, y_predict)"
      ]
    },
    {
      "cell_type": "code",
      "execution_count": null,
      "metadata": {
        "id": "WqdPqwzu-QA6",
        "outputId": "3776a215-d138-4734-a2c0-1be6b29bfc06"
      },
      "outputs": [
        {
          "data": {
            "image/png": "[encoded data removed]",
            "text/plain": [
              "<Figure size 640x480 with 2 Axes>"
            ]
          },
          "metadata": {},
          "output_type": "display_data"
        }
      ],
      "source": [
        "# Plot da confusion matrix\n",
        "plot_labels = ['akiec', 'bcc', 'bkl', 'df', 'nv', 'vasc','mel']\n",
        "dsa_plot_confusion_matrix(confusion_mtx, plot_labels)"
      ]
    },
    {
      "cell_type": "code",
      "execution_count": null,
      "metadata": {
        "id": "Y0eSOZ7C-QA7",
        "outputId": "f3ab0941-3169-4c7f-e778-aaaf9101e98a"
      },
      "outputs": [
        {
          "name": "stdout",
          "output_type": "stream",
          "text": [
            "              precision    recall  f1-score   support\n",
            "\n",
            "       akiec       0.69      0.61      0.65        18\n",
            "         bcc       0.77      0.83      0.80        12\n",
            "         bkl       0.68      0.64      0.66        39\n",
            "          df       0.80      0.80      0.80         5\n",
            "          nv       0.97      0.97      0.97       450\n",
            "        vasc       0.42      0.50      0.45        20\n",
            "         mel       1.00      1.00      1.00         8\n",
            "\n",
            "    accuracy                           0.91       552\n",
            "   macro avg       0.76      0.77      0.76       552\n",
            "weighted avg       0.92      0.91      0.92       552\n",
            "\n"
          ]
        }
      ],
      "source": [
        "# Gera o relatório de classificação\n",
        "report = classification_report(y_label, y_predict, target_names = plot_labels)\n",
        "print(report)"
      ]
    },
    {
      "cell_type": "code",
      "execution_count": null,
      "metadata": {
        "id": "BecjkQVN-QA7",
        "outputId": "32f767aa-69f2-4ed3-ee5d-ca0808feb8ae"
      },
      "outputs": [
        {
          "data": {
            "text/plain": [
              "Text(0, 0.5, 'Classificação Incorreta')"
            ]
          },
          "execution_count": 95,
          "metadata": {},
          "output_type": "execute_result"
        },
        {
          "data": {
            "image/png": "[encoded data removed]",
            "text/plain": [
              "<Figure size 640x480 with 1 Axes>"
            ]
          },
          "metadata": {},
          "output_type": "display_data"
        }
      ],
      "source": [
        "# Plot de erros por classe\n",
        "label_frac_error = 1 - np.diag(confusion_mtx) / np.sum(confusion_mtx, axis = 1)\n",
        "plt.bar(np.arange(7),label_frac_error)\n",
        "plt.xlabel('Label Real')\n",
        "plt.ylabel('Classificação Incorreta')"
      ]
    },
    {
      "cell_type": "markdown",
      "metadata": {
        "id": "8IVLj9fp-QA7"
      },
      "source": [
        "## Deploy e Aplicação do Modelo em Novas Imagens\n",
        "\n",
        "Para o deploy do modelo você deve:\n",
        "\n",
        "1- Obter novas imagens com lesões da pele.\n",
        "\n",
        "2- Carregar as imagens.\n",
        "\n",
        "3- Aplicar nas imagens as mesmas transformações aplicadas nos dados de validação e teste.\n",
        "\n",
        "4- Carregar o modelo do disco.\n",
        "\n",
        "5- Usar o modelo treinado e fazer a previsão de classe."
      ]
    },
    {
      "cell_type": "markdown",
      "metadata": {
        "id": "7-_90DwW-QA8"
      },
      "source": [
        "# Fim"
      ]
    }
  ],
  "metadata": {
    "kernelspec": {
      "display_name": "Python 3 (ipykernel)",
      "language": "python",
      "name": "python3"
    },
    "language_info": {
      "codemirror_mode": {
        "name": "ipython",
        "version": 3
      },
      "file_extension": ".py",
      "mimetype": "text/x-python",
      "name": "python",
      "nbconvert_exporter": "python",
      "pygments_lexer": "ipython3",
      "version": "3.11.0"
    },
    "colab": {
      "provenance": [],
      "include_colab_link": true
    }
  },
  "nbformat": 4,
  "nbformat_minor": 0
}